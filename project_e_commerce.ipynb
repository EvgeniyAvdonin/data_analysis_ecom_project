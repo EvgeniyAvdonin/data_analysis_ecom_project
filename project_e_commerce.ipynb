{
 "cells": [
  {
   "cell_type": "code",
   "execution_count": 1,
   "metadata": {},
   "outputs": [],
   "source": [
    "import pandas as pd\n",
    "import seaborn as sns\n",
    "import matplotlib.pyplot as plt\n",
    "import datetime\n",
    "import calendar\n",
    "import numpy as np\n",
    "%matplotlib inline"
   ]
  },
  {
   "cell_type": "code",
   "execution_count": 2,
   "metadata": {},
   "outputs": [],
   "source": [
    "customers = pd.read_csv('olist_customers_dataset.csv')\n",
    "orders = pd.read_csv('olist_orders_dataset.csv')\n",
    "items = pd.read_csv('olist_order_items_dataset.csv')"
   ]
  },
  {
   "cell_type": "markdown",
   "metadata": {},
   "source": [
    "0. Базовое изучение имеющихся данных\n",
    "\n",
    "Использую некоторые функции для верхнеуровневого изучения данных: сколько всего, сколько значений может применяться, есть ли пропущенные значения"
   ]
  },
  {
   "cell_type": "code",
   "execution_count": 3,
   "metadata": {},
   "outputs": [
    {
     "data": {
      "text/html": [
       "<div>\n",
       "<style scoped>\n",
       "    .dataframe tbody tr th:only-of-type {\n",
       "        vertical-align: middle;\n",
       "    }\n",
       "\n",
       "    .dataframe tbody tr th {\n",
       "        vertical-align: top;\n",
       "    }\n",
       "\n",
       "    .dataframe thead th {\n",
       "        text-align: right;\n",
       "    }\n",
       "</style>\n",
       "<table border=\"1\" class=\"dataframe\">\n",
       "  <thead>\n",
       "    <tr style=\"text-align: right;\">\n",
       "      <th></th>\n",
       "      <th>customer_id</th>\n",
       "      <th>customer_unique_id</th>\n",
       "      <th>customer_zip_code_prefix</th>\n",
       "      <th>customer_city</th>\n",
       "      <th>customer_state</th>\n",
       "    </tr>\n",
       "  </thead>\n",
       "  <tbody>\n",
       "    <tr>\n",
       "      <th>0</th>\n",
       "      <td>06b8999e2fba1a1fbc88172c00ba8bc7</td>\n",
       "      <td>861eff4711a542e4b93843c6dd7febb0</td>\n",
       "      <td>14409</td>\n",
       "      <td>franca</td>\n",
       "      <td>SP</td>\n",
       "    </tr>\n",
       "    <tr>\n",
       "      <th>1</th>\n",
       "      <td>18955e83d337fd6b2def6b18a428ac77</td>\n",
       "      <td>290c77bc529b7ac935b93aa66c333dc3</td>\n",
       "      <td>9790</td>\n",
       "      <td>sao bernardo do campo</td>\n",
       "      <td>SP</td>\n",
       "    </tr>\n",
       "    <tr>\n",
       "      <th>2</th>\n",
       "      <td>4e7b3e00288586ebd08712fdd0374a03</td>\n",
       "      <td>060e732b5b29e8181a18229c7b0b2b5e</td>\n",
       "      <td>1151</td>\n",
       "      <td>sao paulo</td>\n",
       "      <td>SP</td>\n",
       "    </tr>\n",
       "  </tbody>\n",
       "</table>\n",
       "</div>"
      ],
      "text/plain": [
       "                        customer_id                customer_unique_id  \\\n",
       "0  06b8999e2fba1a1fbc88172c00ba8bc7  861eff4711a542e4b93843c6dd7febb0   \n",
       "1  18955e83d337fd6b2def6b18a428ac77  290c77bc529b7ac935b93aa66c333dc3   \n",
       "2  4e7b3e00288586ebd08712fdd0374a03  060e732b5b29e8181a18229c7b0b2b5e   \n",
       "\n",
       "   customer_zip_code_prefix          customer_city customer_state  \n",
       "0                     14409                 franca             SP  \n",
       "1                      9790  sao bernardo do campo             SP  \n",
       "2                      1151              sao paulo             SP  "
      ]
     },
     "execution_count": 3,
     "metadata": {},
     "output_type": "execute_result"
    }
   ],
   "source": [
    "customers.head(3)"
   ]
  },
  {
   "cell_type": "code",
   "execution_count": 4,
   "metadata": {},
   "outputs": [
    {
     "data": {
      "text/html": [
       "<div>\n",
       "<style scoped>\n",
       "    .dataframe tbody tr th:only-of-type {\n",
       "        vertical-align: middle;\n",
       "    }\n",
       "\n",
       "    .dataframe tbody tr th {\n",
       "        vertical-align: top;\n",
       "    }\n",
       "\n",
       "    .dataframe thead th {\n",
       "        text-align: right;\n",
       "    }\n",
       "</style>\n",
       "<table border=\"1\" class=\"dataframe\">\n",
       "  <thead>\n",
       "    <tr style=\"text-align: right;\">\n",
       "      <th></th>\n",
       "      <th>order_id</th>\n",
       "      <th>customer_id</th>\n",
       "      <th>order_status</th>\n",
       "      <th>order_purchase_timestamp</th>\n",
       "      <th>order_approved_at</th>\n",
       "      <th>order_delivered_carrier_date</th>\n",
       "      <th>order_delivered_customer_date</th>\n",
       "      <th>order_estimated_delivery_date</th>\n",
       "    </tr>\n",
       "  </thead>\n",
       "  <tbody>\n",
       "    <tr>\n",
       "      <th>0</th>\n",
       "      <td>e481f51cbdc54678b7cc49136f2d6af7</td>\n",
       "      <td>9ef432eb6251297304e76186b10a928d</td>\n",
       "      <td>delivered</td>\n",
       "      <td>2017-10-02 10:56:33</td>\n",
       "      <td>2017-10-02 11:07:15</td>\n",
       "      <td>2017-10-04 19:55:00</td>\n",
       "      <td>2017-10-10 21:25:13</td>\n",
       "      <td>2017-10-18 00:00:00</td>\n",
       "    </tr>\n",
       "    <tr>\n",
       "      <th>1</th>\n",
       "      <td>53cdb2fc8bc7dce0b6741e2150273451</td>\n",
       "      <td>b0830fb4747a6c6d20dea0b8c802d7ef</td>\n",
       "      <td>delivered</td>\n",
       "      <td>2018-07-24 20:41:37</td>\n",
       "      <td>2018-07-26 03:24:27</td>\n",
       "      <td>2018-07-26 14:31:00</td>\n",
       "      <td>2018-08-07 15:27:45</td>\n",
       "      <td>2018-08-13 00:00:00</td>\n",
       "    </tr>\n",
       "    <tr>\n",
       "      <th>2</th>\n",
       "      <td>47770eb9100c2d0c44946d9cf07ec65d</td>\n",
       "      <td>41ce2a54c0b03bf3443c3d931a367089</td>\n",
       "      <td>delivered</td>\n",
       "      <td>2018-08-08 08:38:49</td>\n",
       "      <td>2018-08-08 08:55:23</td>\n",
       "      <td>2018-08-08 13:50:00</td>\n",
       "      <td>2018-08-17 18:06:29</td>\n",
       "      <td>2018-09-04 00:00:00</td>\n",
       "    </tr>\n",
       "  </tbody>\n",
       "</table>\n",
       "</div>"
      ],
      "text/plain": [
       "                           order_id                       customer_id  \\\n",
       "0  e481f51cbdc54678b7cc49136f2d6af7  9ef432eb6251297304e76186b10a928d   \n",
       "1  53cdb2fc8bc7dce0b6741e2150273451  b0830fb4747a6c6d20dea0b8c802d7ef   \n",
       "2  47770eb9100c2d0c44946d9cf07ec65d  41ce2a54c0b03bf3443c3d931a367089   \n",
       "\n",
       "  order_status order_purchase_timestamp    order_approved_at  \\\n",
       "0    delivered      2017-10-02 10:56:33  2017-10-02 11:07:15   \n",
       "1    delivered      2018-07-24 20:41:37  2018-07-26 03:24:27   \n",
       "2    delivered      2018-08-08 08:38:49  2018-08-08 08:55:23   \n",
       "\n",
       "  order_delivered_carrier_date order_delivered_customer_date  \\\n",
       "0          2017-10-04 19:55:00           2017-10-10 21:25:13   \n",
       "1          2018-07-26 14:31:00           2018-08-07 15:27:45   \n",
       "2          2018-08-08 13:50:00           2018-08-17 18:06:29   \n",
       "\n",
       "  order_estimated_delivery_date  \n",
       "0           2017-10-18 00:00:00  \n",
       "1           2018-08-13 00:00:00  \n",
       "2           2018-09-04 00:00:00  "
      ]
     },
     "execution_count": 4,
     "metadata": {},
     "output_type": "execute_result"
    }
   ],
   "source": [
    "orders.head(3)"
   ]
  },
  {
   "cell_type": "code",
   "execution_count": 5,
   "metadata": {},
   "outputs": [
    {
     "data": {
      "text/html": [
       "<div>\n",
       "<style scoped>\n",
       "    .dataframe tbody tr th:only-of-type {\n",
       "        vertical-align: middle;\n",
       "    }\n",
       "\n",
       "    .dataframe tbody tr th {\n",
       "        vertical-align: top;\n",
       "    }\n",
       "\n",
       "    .dataframe thead th {\n",
       "        text-align: right;\n",
       "    }\n",
       "</style>\n",
       "<table border=\"1\" class=\"dataframe\">\n",
       "  <thead>\n",
       "    <tr style=\"text-align: right;\">\n",
       "      <th></th>\n",
       "      <th>order_id</th>\n",
       "      <th>order_item_id</th>\n",
       "      <th>product_id</th>\n",
       "      <th>seller_id</th>\n",
       "      <th>shipping_limit_date</th>\n",
       "      <th>price</th>\n",
       "      <th>freight_value</th>\n",
       "    </tr>\n",
       "  </thead>\n",
       "  <tbody>\n",
       "    <tr>\n",
       "      <th>0</th>\n",
       "      <td>00010242fe8c5a6d1ba2dd792cb16214</td>\n",
       "      <td>1</td>\n",
       "      <td>4244733e06e7ecb4970a6e2683c13e61</td>\n",
       "      <td>48436dade18ac8b2bce089ec2a041202</td>\n",
       "      <td>2017-09-19 09:45:35</td>\n",
       "      <td>58.90</td>\n",
       "      <td>13.29</td>\n",
       "    </tr>\n",
       "    <tr>\n",
       "      <th>1</th>\n",
       "      <td>00018f77f2f0320c557190d7a144bdd3</td>\n",
       "      <td>1</td>\n",
       "      <td>e5f2d52b802189ee658865ca93d83a8f</td>\n",
       "      <td>dd7ddc04e1b6c2c614352b383efe2d36</td>\n",
       "      <td>2017-05-03 11:05:13</td>\n",
       "      <td>239.90</td>\n",
       "      <td>19.93</td>\n",
       "    </tr>\n",
       "    <tr>\n",
       "      <th>2</th>\n",
       "      <td>000229ec398224ef6ca0657da4fc703e</td>\n",
       "      <td>1</td>\n",
       "      <td>c777355d18b72b67abbeef9df44fd0fd</td>\n",
       "      <td>5b51032eddd242adc84c38acab88f23d</td>\n",
       "      <td>2018-01-18 14:48:30</td>\n",
       "      <td>199.00</td>\n",
       "      <td>17.87</td>\n",
       "    </tr>\n",
       "    <tr>\n",
       "      <th>3</th>\n",
       "      <td>00024acbcdf0a6daa1e931b038114c75</td>\n",
       "      <td>1</td>\n",
       "      <td>7634da152a4610f1595efa32f14722fc</td>\n",
       "      <td>9d7a1d34a5052409006425275ba1c2b4</td>\n",
       "      <td>2018-08-15 10:10:18</td>\n",
       "      <td>12.99</td>\n",
       "      <td>12.79</td>\n",
       "    </tr>\n",
       "    <tr>\n",
       "      <th>4</th>\n",
       "      <td>00042b26cf59d7ce69dfabb4e55b4fd9</td>\n",
       "      <td>1</td>\n",
       "      <td>ac6c3623068f30de03045865e4e10089</td>\n",
       "      <td>df560393f3a51e74553ab94004ba5c87</td>\n",
       "      <td>2017-02-13 13:57:51</td>\n",
       "      <td>199.90</td>\n",
       "      <td>18.14</td>\n",
       "    </tr>\n",
       "  </tbody>\n",
       "</table>\n",
       "</div>"
      ],
      "text/plain": [
       "                           order_id  order_item_id  \\\n",
       "0  00010242fe8c5a6d1ba2dd792cb16214              1   \n",
       "1  00018f77f2f0320c557190d7a144bdd3              1   \n",
       "2  000229ec398224ef6ca0657da4fc703e              1   \n",
       "3  00024acbcdf0a6daa1e931b038114c75              1   \n",
       "4  00042b26cf59d7ce69dfabb4e55b4fd9              1   \n",
       "\n",
       "                         product_id                         seller_id  \\\n",
       "0  4244733e06e7ecb4970a6e2683c13e61  48436dade18ac8b2bce089ec2a041202   \n",
       "1  e5f2d52b802189ee658865ca93d83a8f  dd7ddc04e1b6c2c614352b383efe2d36   \n",
       "2  c777355d18b72b67abbeef9df44fd0fd  5b51032eddd242adc84c38acab88f23d   \n",
       "3  7634da152a4610f1595efa32f14722fc  9d7a1d34a5052409006425275ba1c2b4   \n",
       "4  ac6c3623068f30de03045865e4e10089  df560393f3a51e74553ab94004ba5c87   \n",
       "\n",
       "   shipping_limit_date   price  freight_value  \n",
       "0  2017-09-19 09:45:35   58.90          13.29  \n",
       "1  2017-05-03 11:05:13  239.90          19.93  \n",
       "2  2018-01-18 14:48:30  199.00          17.87  \n",
       "3  2018-08-15 10:10:18   12.99          12.79  \n",
       "4  2017-02-13 13:57:51  199.90          18.14  "
      ]
     },
     "execution_count": 5,
     "metadata": {},
     "output_type": "execute_result"
    }
   ],
   "source": [
    "items.head()"
   ]
  },
  {
   "cell_type": "code",
   "execution_count": 6,
   "metadata": {},
   "outputs": [
    {
     "data": {
      "text/plain": [
       "customer_id                 object\n",
       "customer_unique_id          object\n",
       "customer_zip_code_prefix     int64\n",
       "customer_city               object\n",
       "customer_state              object\n",
       "dtype: object"
      ]
     },
     "execution_count": 6,
     "metadata": {},
     "output_type": "execute_result"
    }
   ],
   "source": [
    "customers.dtypes"
   ]
  },
  {
   "cell_type": "code",
   "execution_count": 7,
   "metadata": {},
   "outputs": [
    {
     "data": {
      "text/plain": [
       "order_id                         object\n",
       "customer_id                      object\n",
       "order_status                     object\n",
       "order_purchase_timestamp         object\n",
       "order_approved_at                object\n",
       "order_delivered_carrier_date     object\n",
       "order_delivered_customer_date    object\n",
       "order_estimated_delivery_date    object\n",
       "dtype: object"
      ]
     },
     "execution_count": 7,
     "metadata": {},
     "output_type": "execute_result"
    }
   ],
   "source": [
    "orders.dtypes"
   ]
  },
  {
   "cell_type": "code",
   "execution_count": 8,
   "metadata": {},
   "outputs": [
    {
     "data": {
      "text/plain": [
       "customer_id                 99441\n",
       "customer_unique_id          96096\n",
       "customer_zip_code_prefix    14994\n",
       "customer_city                4119\n",
       "customer_state                 27\n",
       "dtype: int64"
      ]
     },
     "execution_count": 8,
     "metadata": {},
     "output_type": "execute_result"
    }
   ],
   "source": [
    "customers.nunique()"
   ]
  },
  {
   "cell_type": "code",
   "execution_count": 9,
   "metadata": {},
   "outputs": [
    {
     "data": {
      "text/plain": [
       "order_id                         99441\n",
       "customer_id                      99441\n",
       "order_status                         8\n",
       "order_purchase_timestamp         98875\n",
       "order_approved_at                90733\n",
       "order_delivered_carrier_date     81018\n",
       "order_delivered_customer_date    95664\n",
       "order_estimated_delivery_date      459\n",
       "dtype: int64"
      ]
     },
     "execution_count": 9,
     "metadata": {},
     "output_type": "execute_result"
    }
   ],
   "source": [
    "orders.nunique()"
   ]
  },
  {
   "cell_type": "code",
   "execution_count": 10,
   "metadata": {},
   "outputs": [
    {
     "data": {
      "text/plain": [
       "customer_id                 0\n",
       "customer_unique_id          0\n",
       "customer_zip_code_prefix    0\n",
       "customer_city               0\n",
       "customer_state              0\n",
       "dtype: int64"
      ]
     },
     "execution_count": 10,
     "metadata": {},
     "output_type": "execute_result"
    }
   ],
   "source": [
    "customers.isna().sum()"
   ]
  },
  {
   "cell_type": "code",
   "execution_count": 11,
   "metadata": {},
   "outputs": [
    {
     "data": {
      "text/plain": [
       "order_id                            0\n",
       "customer_id                         0\n",
       "order_status                        0\n",
       "order_purchase_timestamp            0\n",
       "order_approved_at                 160\n",
       "order_delivered_carrier_date     1783\n",
       "order_delivered_customer_date    2965\n",
       "order_estimated_delivery_date       0\n",
       "dtype: int64"
      ]
     },
     "execution_count": 11,
     "metadata": {},
     "output_type": "execute_result"
    }
   ],
   "source": [
    "orders.isna().sum()"
   ]
  },
  {
   "cell_type": "markdown",
   "metadata": {},
   "source": [
    "# 1. Сколько у нас пользователей, которые совершили покупку только один раз?\n",
    "\n",
    "1.1 Определение покупки. Предположим, что покупка - получение оплаты от клиента Компанией и отправка ему товара. Т.о., сначала необходимо исключить заказы, по которым не было оплаты. \n",
    "\n",
    "1.2 Также известно, что существуют два разных id для клиентов - customer_id и customer_unique_id. По условию, customer_unique_id аналогичен номеру паспорта, поэтому агрегировать покупки логично именно по этому id. \n",
    "\n",
    "1.3 Для расчета n клиентов, сделавших 1 покупку необходимо отфильтровать заказы с обозначенными статусами и посчитать их, сгруппировав с уникальным номером клиента (customer_unique_id). Для этого необходимо объединить таблицы по единому ключу. "
   ]
  },
  {
   "cell_type": "code",
   "execution_count": 12,
   "metadata": {},
   "outputs": [
    {
     "data": {
      "text/html": [
       "<div>\n",
       "<style scoped>\n",
       "    .dataframe tbody tr th:only-of-type {\n",
       "        vertical-align: middle;\n",
       "    }\n",
       "\n",
       "    .dataframe tbody tr th {\n",
       "        vertical-align: top;\n",
       "    }\n",
       "\n",
       "    .dataframe thead th {\n",
       "        text-align: right;\n",
       "    }\n",
       "</style>\n",
       "<table border=\"1\" class=\"dataframe\">\n",
       "  <thead>\n",
       "    <tr style=\"text-align: right;\">\n",
       "      <th></th>\n",
       "      <th>customer_unique_id</th>\n",
       "      <th>customer_id</th>\n",
       "    </tr>\n",
       "  </thead>\n",
       "  <tbody>\n",
       "    <tr>\n",
       "      <th>54375</th>\n",
       "      <td>910240400459e4edf250cddd2588bfd2</td>\n",
       "      <td>2</td>\n",
       "    </tr>\n",
       "    <tr>\n",
       "      <th>17957</th>\n",
       "      <td>2fa63db193ecb500d4058cae36026f8f</td>\n",
       "      <td>2</td>\n",
       "    </tr>\n",
       "    <tr>\n",
       "      <th>76770</th>\n",
       "      <td>cc492df9ae61715ec0ede787f6f086d9</td>\n",
       "      <td>2</td>\n",
       "    </tr>\n",
       "    <tr>\n",
       "      <th>48765</th>\n",
       "      <td>8194a6cea93c5c653e7956f0b962b5f7</td>\n",
       "      <td>2</td>\n",
       "    </tr>\n",
       "    <tr>\n",
       "      <th>76570</th>\n",
       "      <td>cbc71e02efb1d43b84f80b2a64d6013c</td>\n",
       "      <td>2</td>\n",
       "    </tr>\n",
       "    <tr>\n",
       "      <th>...</th>\n",
       "      <td>...</td>\n",
       "      <td>...</td>\n",
       "    </tr>\n",
       "    <tr>\n",
       "      <th>76082</th>\n",
       "      <td>ca77025e7201e3b30c44b472ff346268</td>\n",
       "      <td>7</td>\n",
       "    </tr>\n",
       "    <tr>\n",
       "      <th>37797</th>\n",
       "      <td>6469f99c1f9dfae7733b25662e7f1782</td>\n",
       "      <td>7</td>\n",
       "    </tr>\n",
       "    <tr>\n",
       "      <th>10354</th>\n",
       "      <td>1b6c7548a2a1f9037c1fd3ddfed95f33</td>\n",
       "      <td>7</td>\n",
       "    </tr>\n",
       "    <tr>\n",
       "      <th>23472</th>\n",
       "      <td>3e43e6105506432c953e165fb2acf44c</td>\n",
       "      <td>9</td>\n",
       "    </tr>\n",
       "    <tr>\n",
       "      <th>52973</th>\n",
       "      <td>8d50f5eadf50201ccdcedfb9e2ac8455</td>\n",
       "      <td>17</td>\n",
       "    </tr>\n",
       "  </tbody>\n",
       "</table>\n",
       "<p>2997 rows × 2 columns</p>\n",
       "</div>"
      ],
      "text/plain": [
       "                     customer_unique_id  customer_id\n",
       "54375  910240400459e4edf250cddd2588bfd2            2\n",
       "17957  2fa63db193ecb500d4058cae36026f8f            2\n",
       "76770  cc492df9ae61715ec0ede787f6f086d9            2\n",
       "48765  8194a6cea93c5c653e7956f0b962b5f7            2\n",
       "76570  cbc71e02efb1d43b84f80b2a64d6013c            2\n",
       "...                                 ...          ...\n",
       "76082  ca77025e7201e3b30c44b472ff346268            7\n",
       "37797  6469f99c1f9dfae7733b25662e7f1782            7\n",
       "10354  1b6c7548a2a1f9037c1fd3ddfed95f33            7\n",
       "23472  3e43e6105506432c953e165fb2acf44c            9\n",
       "52973  8d50f5eadf50201ccdcedfb9e2ac8455           17\n",
       "\n",
       "[2997 rows x 2 columns]"
      ]
     },
     "execution_count": 12,
     "metadata": {},
     "output_type": "execute_result"
    }
   ],
   "source": [
    "#проверка, что для одного customer_unique_id может быть более 1 customer_id\n",
    "customers.groupby('customer_unique_id', as_index = False) \\\n",
    "    .agg({'customer_id':'count'}) \\\n",
    "    .sort_values('customer_id') \\\n",
    "    .query('customer_id != 1')"
   ]
  },
  {
   "cell_type": "code",
   "execution_count": 13,
   "metadata": {},
   "outputs": [],
   "source": [
    "# фильтр оплаченных заказов\n",
    "orders_approved = orders[orders['order_approved_at'].notnull()]"
   ]
  },
  {
   "cell_type": "code",
   "execution_count": 14,
   "metadata": {},
   "outputs": [
    {
     "data": {
      "text/plain": [
       "array(['delivered', 'invoiced', 'shipped', 'processing', 'unavailable',\n",
       "       'canceled', 'approved'], dtype=object)"
      ]
     },
     "execution_count": 14,
     "metadata": {},
     "output_type": "execute_result"
    }
   ],
   "source": [
    "# вывод статусов оставшихся заказов\n",
    "orders_approved.order_status.unique()"
   ]
  },
  {
   "cell_type": "markdown",
   "metadata": {},
   "source": [
    "Вызывают сомнения оплаченные заказы двух статусов: unavailable и canceled.\n",
    "По последнему можно предполложить, что клиент отменил заказ и ждет возврата средств, поэтому логично убрать такие заказы из покупок. Стоить проверить unavailable заказы: "
   ]
  },
  {
   "cell_type": "code",
   "execution_count": 15,
   "metadata": {},
   "outputs": [
    {
     "data": {
      "text/html": [
       "<div>\n",
       "<style scoped>\n",
       "    .dataframe tbody tr th:only-of-type {\n",
       "        vertical-align: middle;\n",
       "    }\n",
       "\n",
       "    .dataframe tbody tr th {\n",
       "        vertical-align: top;\n",
       "    }\n",
       "\n",
       "    .dataframe thead th {\n",
       "        text-align: right;\n",
       "    }\n",
       "</style>\n",
       "<table border=\"1\" class=\"dataframe\">\n",
       "  <thead>\n",
       "    <tr style=\"text-align: right;\">\n",
       "      <th></th>\n",
       "      <th>order_id</th>\n",
       "      <th>customer_id</th>\n",
       "      <th>order_status</th>\n",
       "      <th>order_purchase_timestamp</th>\n",
       "      <th>order_approved_at</th>\n",
       "      <th>order_delivered_carrier_date</th>\n",
       "      <th>order_delivered_customer_date</th>\n",
       "      <th>order_estimated_delivery_date</th>\n",
       "    </tr>\n",
       "  </thead>\n",
       "  <tbody>\n",
       "    <tr>\n",
       "      <th>266</th>\n",
       "      <td>8e24261a7e58791d10cb1bf9da94df5c</td>\n",
       "      <td>64a254d30eed42cd0e6c36dddb88adf0</td>\n",
       "      <td>unavailable</td>\n",
       "      <td>2017-11-16 15:09:28</td>\n",
       "      <td>2017-11-16 15:26:57</td>\n",
       "      <td>NaN</td>\n",
       "      <td>NaN</td>\n",
       "      <td>2017-12-05 00:00:00</td>\n",
       "    </tr>\n",
       "    <tr>\n",
       "      <th>586</th>\n",
       "      <td>c272bcd21c287498b4883c7512019702</td>\n",
       "      <td>9582c5bbecc65eb568e2c1d839b5cba1</td>\n",
       "      <td>unavailable</td>\n",
       "      <td>2018-01-31 11:31:37</td>\n",
       "      <td>2018-01-31 14:23:50</td>\n",
       "      <td>NaN</td>\n",
       "      <td>NaN</td>\n",
       "      <td>2018-02-16 00:00:00</td>\n",
       "    </tr>\n",
       "    <tr>\n",
       "      <th>687</th>\n",
       "      <td>37553832a3a89c9b2db59701c357ca67</td>\n",
       "      <td>7607cd563696c27ede287e515812d528</td>\n",
       "      <td>unavailable</td>\n",
       "      <td>2017-08-14 17:38:02</td>\n",
       "      <td>2017-08-17 00:15:18</td>\n",
       "      <td>NaN</td>\n",
       "      <td>NaN</td>\n",
       "      <td>2017-09-05 00:00:00</td>\n",
       "    </tr>\n",
       "    <tr>\n",
       "      <th>737</th>\n",
       "      <td>d57e15fb07fd180f06ab3926b39edcd2</td>\n",
       "      <td>470b93b3f1cde85550fc74cd3a476c78</td>\n",
       "      <td>unavailable</td>\n",
       "      <td>2018-01-08 19:39:03</td>\n",
       "      <td>2018-01-09 07:26:08</td>\n",
       "      <td>NaN</td>\n",
       "      <td>NaN</td>\n",
       "      <td>2018-02-06 00:00:00</td>\n",
       "    </tr>\n",
       "    <tr>\n",
       "      <th>1160</th>\n",
       "      <td>2f634e2cebf8c0283e7ef0989f77d217</td>\n",
       "      <td>7353b0fb8e8d9675e3a704c60ca44ebe</td>\n",
       "      <td>unavailable</td>\n",
       "      <td>2017-09-27 20:55:33</td>\n",
       "      <td>2017-09-28 01:32:50</td>\n",
       "      <td>NaN</td>\n",
       "      <td>NaN</td>\n",
       "      <td>2017-10-27 00:00:00</td>\n",
       "    </tr>\n",
       "  </tbody>\n",
       "</table>\n",
       "</div>"
      ],
      "text/plain": [
       "                              order_id                       customer_id  \\\n",
       "266   8e24261a7e58791d10cb1bf9da94df5c  64a254d30eed42cd0e6c36dddb88adf0   \n",
       "586   c272bcd21c287498b4883c7512019702  9582c5bbecc65eb568e2c1d839b5cba1   \n",
       "687   37553832a3a89c9b2db59701c357ca67  7607cd563696c27ede287e515812d528   \n",
       "737   d57e15fb07fd180f06ab3926b39edcd2  470b93b3f1cde85550fc74cd3a476c78   \n",
       "1160  2f634e2cebf8c0283e7ef0989f77d217  7353b0fb8e8d9675e3a704c60ca44ebe   \n",
       "\n",
       "     order_status order_purchase_timestamp    order_approved_at  \\\n",
       "266   unavailable      2017-11-16 15:09:28  2017-11-16 15:26:57   \n",
       "586   unavailable      2018-01-31 11:31:37  2018-01-31 14:23:50   \n",
       "687   unavailable      2017-08-14 17:38:02  2017-08-17 00:15:18   \n",
       "737   unavailable      2018-01-08 19:39:03  2018-01-09 07:26:08   \n",
       "1160  unavailable      2017-09-27 20:55:33  2017-09-28 01:32:50   \n",
       "\n",
       "     order_delivered_carrier_date order_delivered_customer_date  \\\n",
       "266                           NaN                           NaN   \n",
       "586                           NaN                           NaN   \n",
       "687                           NaN                           NaN   \n",
       "737                           NaN                           NaN   \n",
       "1160                          NaN                           NaN   \n",
       "\n",
       "     order_estimated_delivery_date  \n",
       "266            2017-12-05 00:00:00  \n",
       "586            2018-02-16 00:00:00  \n",
       "687            2017-09-05 00:00:00  \n",
       "737            2018-02-06 00:00:00  \n",
       "1160           2017-10-27 00:00:00  "
      ]
     },
     "execution_count": 15,
     "metadata": {},
     "output_type": "execute_result"
    }
   ],
   "source": [
    "orders_approved.query('order_status == \"unavailable\"').head()"
   ]
  },
  {
   "cell_type": "markdown",
   "metadata": {},
   "source": [
    "На основе имеющихся данных нельзя точно сказать, что это это за заказы со статусом unavailable и почему они имеют такой статус. \n",
    "В данном проекте решено убрать оплаченные заказы в статусе unavailable из-за нехватки понимания по ним. Они также не составляют существенную часть заказов (609 шт.)"
   ]
  },
  {
   "cell_type": "code",
   "execution_count": 16,
   "metadata": {},
   "outputs": [
    {
     "data": {
      "text/html": [
       "<div>\n",
       "<style scoped>\n",
       "    .dataframe tbody tr th:only-of-type {\n",
       "        vertical-align: middle;\n",
       "    }\n",
       "\n",
       "    .dataframe tbody tr th {\n",
       "        vertical-align: top;\n",
       "    }\n",
       "\n",
       "    .dataframe thead th {\n",
       "        text-align: right;\n",
       "    }\n",
       "</style>\n",
       "<table border=\"1\" class=\"dataframe\">\n",
       "  <thead>\n",
       "    <tr style=\"text-align: right;\">\n",
       "      <th></th>\n",
       "      <th>customer_unique_id</th>\n",
       "      <th>order_id</th>\n",
       "    </tr>\n",
       "  </thead>\n",
       "  <tbody>\n",
       "    <tr>\n",
       "      <th>0</th>\n",
       "      <td>0000366f3b9a7992bf8c76cfdf3221e2</td>\n",
       "      <td>1</td>\n",
       "    </tr>\n",
       "    <tr>\n",
       "      <th>1</th>\n",
       "      <td>0000b849f77a49e4a4ce2b2a4ca5be3f</td>\n",
       "      <td>1</td>\n",
       "    </tr>\n",
       "    <tr>\n",
       "      <th>2</th>\n",
       "      <td>0000f46a3911fa3c0805444483337064</td>\n",
       "      <td>1</td>\n",
       "    </tr>\n",
       "    <tr>\n",
       "      <th>3</th>\n",
       "      <td>0000f6ccb0745a6a4b88665a16c9f078</td>\n",
       "      <td>1</td>\n",
       "    </tr>\n",
       "    <tr>\n",
       "      <th>4</th>\n",
       "      <td>0004aac84e0df4da2b147fca70cf8255</td>\n",
       "      <td>1</td>\n",
       "    </tr>\n",
       "    <tr>\n",
       "      <th>...</th>\n",
       "      <td>...</td>\n",
       "      <td>...</td>\n",
       "    </tr>\n",
       "    <tr>\n",
       "      <th>94968</th>\n",
       "      <td>fffcf5a5ff07b0908bd4e2dbc735a684</td>\n",
       "      <td>1</td>\n",
       "    </tr>\n",
       "    <tr>\n",
       "      <th>94969</th>\n",
       "      <td>fffea47cd6d3cc0a88bd621562a9d061</td>\n",
       "      <td>1</td>\n",
       "    </tr>\n",
       "    <tr>\n",
       "      <th>94970</th>\n",
       "      <td>ffff371b4d645b6ecea244b27531430a</td>\n",
       "      <td>1</td>\n",
       "    </tr>\n",
       "    <tr>\n",
       "      <th>94971</th>\n",
       "      <td>ffff5962728ec6157033ef9805bacc48</td>\n",
       "      <td>1</td>\n",
       "    </tr>\n",
       "    <tr>\n",
       "      <th>94972</th>\n",
       "      <td>ffffd2657e2aad2907e67c3e9daecbeb</td>\n",
       "      <td>1</td>\n",
       "    </tr>\n",
       "  </tbody>\n",
       "</table>\n",
       "<p>92087 rows × 2 columns</p>\n",
       "</div>"
      ],
      "text/plain": [
       "                     customer_unique_id  order_id\n",
       "0      0000366f3b9a7992bf8c76cfdf3221e2         1\n",
       "1      0000b849f77a49e4a4ce2b2a4ca5be3f         1\n",
       "2      0000f46a3911fa3c0805444483337064         1\n",
       "3      0000f6ccb0745a6a4b88665a16c9f078         1\n",
       "4      0004aac84e0df4da2b147fca70cf8255         1\n",
       "...                                 ...       ...\n",
       "94968  fffcf5a5ff07b0908bd4e2dbc735a684         1\n",
       "94969  fffea47cd6d3cc0a88bd621562a9d061         1\n",
       "94970  ffff371b4d645b6ecea244b27531430a         1\n",
       "94971  ffff5962728ec6157033ef9805bacc48         1\n",
       "94972  ffffd2657e2aad2907e67c3e9daecbeb         1\n",
       "\n",
       "[92087 rows x 2 columns]"
      ]
     },
     "execution_count": 16,
     "metadata": {},
     "output_type": "execute_result"
    }
   ],
   "source": [
    "# датафреймы объединяются по единому ключу, после чего группирую по уникальному номеру клиента и считаю кол-во заказов\n",
    "# финальный фильтр убирает клиентов, совершивших > 1 покупок\n",
    "orders_approved.query('order_status != [\"canceled\", \"unavailable\"]') \\\n",
    "    .merge(customers[['customer_unique_id', 'customer_id']]) \\\n",
    "    .groupby('customer_unique_id', as_index = False) \\\n",
    "    .agg({'order_id': 'count'}) \\\n",
    "    .query('order_id == 1')"
   ]
  },
  {
   "cell_type": "markdown",
   "metadata": {},
   "source": [
    "### Ответ 1:\n",
    "Согласно описанной логики определения покупки, только одну покупку совершили **92 087 клиентов**."
   ]
  },
  {
   "cell_type": "markdown",
   "metadata": {},
   "source": [
    "# 2. Сколько заказов в месяц в среднем не доставляется по разным причинам (вывести детализацию по причинам)?\n",
    "\n",
    "2.1 Необходимо выбрать заказы, которые не были доставлены из таблицы orders.\n",
    "\n",
    "2.2 Определить причины, по которым заказы могли быть не доставлены\n",
    "\n",
    "2.3 Посчитать среднее количество недоставленных заказов по причинам в месяц\n",
    "\n",
    "2.4 (факультативно) построить график недоставленных заказов по по причинам по месяцам"
   ]
  },
  {
   "cell_type": "code",
   "execution_count": 17,
   "metadata": {},
   "outputs": [
    {
     "data": {
      "text/plain": [
       "array(['invoiced', 'shipped', 'processing', 'unavailable', 'canceled',\n",
       "       'delivered', 'created', 'approved'], dtype=object)"
      ]
     },
     "execution_count": 17,
     "metadata": {},
     "output_type": "execute_result"
    }
   ],
   "source": [
    "# вывод статусов не доставленных товаров (причин)\n",
    "orders[orders['order_delivered_customer_date'].isnull()].order_status.unique()"
   ]
  },
  {
   "cell_type": "markdown",
   "metadata": {},
   "source": [
    "Часть заказов не являются доставленными, т.к. находятся непосредственно в процессе (едут, собираются, ждут оплаты, т.п.)\n",
    "Однако вызывают сомнение заказы в статусе \"delivered\", но по которым нет даты фактической доставки клиенту."
   ]
  },
  {
   "cell_type": "code",
   "execution_count": 18,
   "metadata": {
    "scrolled": false
   },
   "outputs": [
    {
     "data": {
      "text/html": [
       "<div>\n",
       "<style scoped>\n",
       "    .dataframe tbody tr th:only-of-type {\n",
       "        vertical-align: middle;\n",
       "    }\n",
       "\n",
       "    .dataframe tbody tr th {\n",
       "        vertical-align: top;\n",
       "    }\n",
       "\n",
       "    .dataframe thead th {\n",
       "        text-align: right;\n",
       "    }\n",
       "</style>\n",
       "<table border=\"1\" class=\"dataframe\">\n",
       "  <thead>\n",
       "    <tr style=\"text-align: right;\">\n",
       "      <th></th>\n",
       "      <th>order_id</th>\n",
       "      <th>customer_id</th>\n",
       "      <th>order_status</th>\n",
       "      <th>order_purchase_timestamp</th>\n",
       "      <th>order_approved_at</th>\n",
       "      <th>order_delivered_carrier_date</th>\n",
       "      <th>order_delivered_customer_date</th>\n",
       "      <th>order_estimated_delivery_date</th>\n",
       "    </tr>\n",
       "  </thead>\n",
       "  <tbody>\n",
       "    <tr>\n",
       "      <th>3002</th>\n",
       "      <td>2d1e2d5bf4dc7227b3bfebb81328c15f</td>\n",
       "      <td>ec05a6d8558c6455f0cbbd8a420ad34f</td>\n",
       "      <td>delivered</td>\n",
       "      <td>2017-11-28 17:44:07</td>\n",
       "      <td>2017-11-28 17:56:40</td>\n",
       "      <td>2017-11-30 18:12:23</td>\n",
       "      <td>NaN</td>\n",
       "      <td>2017-12-18 00:00:00</td>\n",
       "    </tr>\n",
       "    <tr>\n",
       "      <th>20618</th>\n",
       "      <td>f5dd62b788049ad9fc0526e3ad11a097</td>\n",
       "      <td>5e89028e024b381dc84a13a3570decb4</td>\n",
       "      <td>delivered</td>\n",
       "      <td>2018-06-20 06:58:43</td>\n",
       "      <td>2018-06-20 07:19:05</td>\n",
       "      <td>2018-06-25 08:05:00</td>\n",
       "      <td>NaN</td>\n",
       "      <td>2018-07-16 00:00:00</td>\n",
       "    </tr>\n",
       "    <tr>\n",
       "      <th>43834</th>\n",
       "      <td>2ebdfc4f15f23b91474edf87475f108e</td>\n",
       "      <td>29f0540231702fda0cfdee0a310f11aa</td>\n",
       "      <td>delivered</td>\n",
       "      <td>2018-07-01 17:05:11</td>\n",
       "      <td>2018-07-01 17:15:12</td>\n",
       "      <td>2018-07-03 13:57:00</td>\n",
       "      <td>NaN</td>\n",
       "      <td>2018-07-30 00:00:00</td>\n",
       "    </tr>\n",
       "    <tr>\n",
       "      <th>79263</th>\n",
       "      <td>e69f75a717d64fc5ecdfae42b2e8e086</td>\n",
       "      <td>cfda40ca8dd0a5d486a9635b611b398a</td>\n",
       "      <td>delivered</td>\n",
       "      <td>2018-07-01 22:05:55</td>\n",
       "      <td>2018-07-01 22:15:14</td>\n",
       "      <td>2018-07-03 13:57:00</td>\n",
       "      <td>NaN</td>\n",
       "      <td>2018-07-30 00:00:00</td>\n",
       "    </tr>\n",
       "    <tr>\n",
       "      <th>82868</th>\n",
       "      <td>0d3268bad9b086af767785e3f0fc0133</td>\n",
       "      <td>4f1d63d35fb7c8999853b2699f5c7649</td>\n",
       "      <td>delivered</td>\n",
       "      <td>2018-07-01 21:14:02</td>\n",
       "      <td>2018-07-01 21:29:54</td>\n",
       "      <td>2018-07-03 09:28:00</td>\n",
       "      <td>NaN</td>\n",
       "      <td>2018-07-24 00:00:00</td>\n",
       "    </tr>\n",
       "    <tr>\n",
       "      <th>92643</th>\n",
       "      <td>2d858f451373b04fb5c984a1cc2defaf</td>\n",
       "      <td>e08caf668d499a6d643dafd7c5cc498a</td>\n",
       "      <td>delivered</td>\n",
       "      <td>2017-05-25 23:22:43</td>\n",
       "      <td>2017-05-25 23:30:16</td>\n",
       "      <td>NaN</td>\n",
       "      <td>NaN</td>\n",
       "      <td>2017-06-23 00:00:00</td>\n",
       "    </tr>\n",
       "    <tr>\n",
       "      <th>97647</th>\n",
       "      <td>ab7c89dc1bf4a1ead9d6ec1ec8968a84</td>\n",
       "      <td>dd1b84a7286eb4524d52af4256c0ba24</td>\n",
       "      <td>delivered</td>\n",
       "      <td>2018-06-08 12:09:39</td>\n",
       "      <td>2018-06-08 12:36:39</td>\n",
       "      <td>2018-06-12 14:10:00</td>\n",
       "      <td>NaN</td>\n",
       "      <td>2018-06-26 00:00:00</td>\n",
       "    </tr>\n",
       "    <tr>\n",
       "      <th>98038</th>\n",
       "      <td>20edc82cf5400ce95e1afacc25798b31</td>\n",
       "      <td>28c37425f1127d887d7337f284080a0f</td>\n",
       "      <td>delivered</td>\n",
       "      <td>2018-06-27 16:09:12</td>\n",
       "      <td>2018-06-27 16:29:30</td>\n",
       "      <td>2018-07-03 19:26:00</td>\n",
       "      <td>NaN</td>\n",
       "      <td>2018-07-19 00:00:00</td>\n",
       "    </tr>\n",
       "  </tbody>\n",
       "</table>\n",
       "</div>"
      ],
      "text/plain": [
       "                               order_id                       customer_id  \\\n",
       "3002   2d1e2d5bf4dc7227b3bfebb81328c15f  ec05a6d8558c6455f0cbbd8a420ad34f   \n",
       "20618  f5dd62b788049ad9fc0526e3ad11a097  5e89028e024b381dc84a13a3570decb4   \n",
       "43834  2ebdfc4f15f23b91474edf87475f108e  29f0540231702fda0cfdee0a310f11aa   \n",
       "79263  e69f75a717d64fc5ecdfae42b2e8e086  cfda40ca8dd0a5d486a9635b611b398a   \n",
       "82868  0d3268bad9b086af767785e3f0fc0133  4f1d63d35fb7c8999853b2699f5c7649   \n",
       "92643  2d858f451373b04fb5c984a1cc2defaf  e08caf668d499a6d643dafd7c5cc498a   \n",
       "97647  ab7c89dc1bf4a1ead9d6ec1ec8968a84  dd1b84a7286eb4524d52af4256c0ba24   \n",
       "98038  20edc82cf5400ce95e1afacc25798b31  28c37425f1127d887d7337f284080a0f   \n",
       "\n",
       "      order_status order_purchase_timestamp    order_approved_at  \\\n",
       "3002     delivered      2017-11-28 17:44:07  2017-11-28 17:56:40   \n",
       "20618    delivered      2018-06-20 06:58:43  2018-06-20 07:19:05   \n",
       "43834    delivered      2018-07-01 17:05:11  2018-07-01 17:15:12   \n",
       "79263    delivered      2018-07-01 22:05:55  2018-07-01 22:15:14   \n",
       "82868    delivered      2018-07-01 21:14:02  2018-07-01 21:29:54   \n",
       "92643    delivered      2017-05-25 23:22:43  2017-05-25 23:30:16   \n",
       "97647    delivered      2018-06-08 12:09:39  2018-06-08 12:36:39   \n",
       "98038    delivered      2018-06-27 16:09:12  2018-06-27 16:29:30   \n",
       "\n",
       "      order_delivered_carrier_date order_delivered_customer_date  \\\n",
       "3002           2017-11-30 18:12:23                           NaN   \n",
       "20618          2018-06-25 08:05:00                           NaN   \n",
       "43834          2018-07-03 13:57:00                           NaN   \n",
       "79263          2018-07-03 13:57:00                           NaN   \n",
       "82868          2018-07-03 09:28:00                           NaN   \n",
       "92643                          NaN                           NaN   \n",
       "97647          2018-06-12 14:10:00                           NaN   \n",
       "98038          2018-07-03 19:26:00                           NaN   \n",
       "\n",
       "      order_estimated_delivery_date  \n",
       "3002            2017-12-18 00:00:00  \n",
       "20618           2018-07-16 00:00:00  \n",
       "43834           2018-07-30 00:00:00  \n",
       "79263           2018-07-30 00:00:00  \n",
       "82868           2018-07-24 00:00:00  \n",
       "92643           2017-06-23 00:00:00  \n",
       "97647           2018-06-26 00:00:00  \n",
       "98038           2018-07-19 00:00:00  "
      ]
     },
     "execution_count": 18,
     "metadata": {},
     "output_type": "execute_result"
    }
   ],
   "source": [
    "# вывод заказазов без даты доставки, но имеющие статус \"delivered\"\n",
    "orders[orders['order_delivered_customer_date'].isnull()].query(\"order_status == 'delivered'\")"
   ]
  },
  {
   "cell_type": "markdown",
   "metadata": {},
   "source": [
    "Всего 8 заказов имеют статус доставленных при отсутствии даты доставки клиенту. Предположим это ошибка системы или нехватка вводной информации. \n",
    "\n",
    "Для дальнейшей аналитики оставим недоставленные заказы двух статусов:canceled и unavailable. \n",
    "delivered исключается по причине, описанной выше; остальные статусы нельзя считать причиной недоставки товара, т.к. они находятся еще в процессе сбора/пути."
   ]
  },
  {
   "cell_type": "code",
   "execution_count": 19,
   "metadata": {},
   "outputs": [],
   "source": [
    "# вывод недоставленных заказов по определенным выше статусам\n",
    "orders_not_delivered = orders[orders['order_delivered_customer_date'].isnull()] \\\n",
    "    .query(\"order_status == ['canceled', 'unavailable']\")"
   ]
  },
  {
   "cell_type": "code",
   "execution_count": 20,
   "metadata": {},
   "outputs": [],
   "source": [
    "# вывод месяцев заказа для дальнейшей группировки для условия задания\n",
    "orders_not_delivered['purchase_month'] = pd.DatetimeIndex(orders_not_delivered['order_purchase_timestamp']).month"
   ]
  },
  {
   "cell_type": "code",
   "execution_count": 21,
   "metadata": {},
   "outputs": [],
   "source": [
    "# перевод месяца в более читаемый вид\n",
    "orders_not_delivered['purchase_month'] = orders_not_delivered['purchase_month'].apply(lambda x: calendar.month_abbr[x])"
   ]
  },
  {
   "cell_type": "code",
   "execution_count": 22,
   "metadata": {},
   "outputs": [
    {
     "data": {
      "text/html": [
       "<div>\n",
       "<style scoped>\n",
       "    .dataframe tbody tr th:only-of-type {\n",
       "        vertical-align: middle;\n",
       "    }\n",
       "\n",
       "    .dataframe tbody tr th {\n",
       "        vertical-align: top;\n",
       "    }\n",
       "\n",
       "    .dataframe thead th {\n",
       "        text-align: right;\n",
       "    }\n",
       "</style>\n",
       "<table border=\"1\" class=\"dataframe\">\n",
       "  <thead>\n",
       "    <tr style=\"text-align: right;\">\n",
       "      <th></th>\n",
       "      <th>order_id</th>\n",
       "      <th>customer_id</th>\n",
       "      <th>order_status</th>\n",
       "      <th>order_purchase_timestamp</th>\n",
       "      <th>order_approved_at</th>\n",
       "      <th>order_delivered_carrier_date</th>\n",
       "      <th>order_delivered_customer_date</th>\n",
       "      <th>order_estimated_delivery_date</th>\n",
       "      <th>purchase_month</th>\n",
       "    </tr>\n",
       "  </thead>\n",
       "  <tbody>\n",
       "    <tr>\n",
       "      <th>266</th>\n",
       "      <td>8e24261a7e58791d10cb1bf9da94df5c</td>\n",
       "      <td>64a254d30eed42cd0e6c36dddb88adf0</td>\n",
       "      <td>unavailable</td>\n",
       "      <td>2017-11-16 15:09:28</td>\n",
       "      <td>2017-11-16 15:26:57</td>\n",
       "      <td>NaN</td>\n",
       "      <td>NaN</td>\n",
       "      <td>2017-12-05 00:00:00</td>\n",
       "      <td>Nov</td>\n",
       "    </tr>\n",
       "    <tr>\n",
       "      <th>397</th>\n",
       "      <td>1b9ecfe83cdc259250e1a8aca174f0ad</td>\n",
       "      <td>6d6b50b66d79f80827b6d96751528d30</td>\n",
       "      <td>canceled</td>\n",
       "      <td>2018-08-04 14:29:27</td>\n",
       "      <td>2018-08-07 04:10:26</td>\n",
       "      <td>NaN</td>\n",
       "      <td>NaN</td>\n",
       "      <td>2018-08-14 00:00:00</td>\n",
       "      <td>Aug</td>\n",
       "    </tr>\n",
       "    <tr>\n",
       "      <th>586</th>\n",
       "      <td>c272bcd21c287498b4883c7512019702</td>\n",
       "      <td>9582c5bbecc65eb568e2c1d839b5cba1</td>\n",
       "      <td>unavailable</td>\n",
       "      <td>2018-01-31 11:31:37</td>\n",
       "      <td>2018-01-31 14:23:50</td>\n",
       "      <td>NaN</td>\n",
       "      <td>NaN</td>\n",
       "      <td>2018-02-16 00:00:00</td>\n",
       "      <td>Jan</td>\n",
       "    </tr>\n",
       "    <tr>\n",
       "      <th>613</th>\n",
       "      <td>714fb133a6730ab81fa1d3c1b2007291</td>\n",
       "      <td>e3fe72696c4713d64d3c10afe71e75ed</td>\n",
       "      <td>canceled</td>\n",
       "      <td>2018-01-26 21:34:08</td>\n",
       "      <td>2018-01-26 21:58:39</td>\n",
       "      <td>2018-01-29 22:33:25</td>\n",
       "      <td>NaN</td>\n",
       "      <td>2018-02-22 00:00:00</td>\n",
       "      <td>Jan</td>\n",
       "    </tr>\n",
       "    <tr>\n",
       "      <th>687</th>\n",
       "      <td>37553832a3a89c9b2db59701c357ca67</td>\n",
       "      <td>7607cd563696c27ede287e515812d528</td>\n",
       "      <td>unavailable</td>\n",
       "      <td>2017-08-14 17:38:02</td>\n",
       "      <td>2017-08-17 00:15:18</td>\n",
       "      <td>NaN</td>\n",
       "      <td>NaN</td>\n",
       "      <td>2017-09-05 00:00:00</td>\n",
       "      <td>Aug</td>\n",
       "    </tr>\n",
       "  </tbody>\n",
       "</table>\n",
       "</div>"
      ],
      "text/plain": [
       "                             order_id                       customer_id  \\\n",
       "266  8e24261a7e58791d10cb1bf9da94df5c  64a254d30eed42cd0e6c36dddb88adf0   \n",
       "397  1b9ecfe83cdc259250e1a8aca174f0ad  6d6b50b66d79f80827b6d96751528d30   \n",
       "586  c272bcd21c287498b4883c7512019702  9582c5bbecc65eb568e2c1d839b5cba1   \n",
       "613  714fb133a6730ab81fa1d3c1b2007291  e3fe72696c4713d64d3c10afe71e75ed   \n",
       "687  37553832a3a89c9b2db59701c357ca67  7607cd563696c27ede287e515812d528   \n",
       "\n",
       "    order_status order_purchase_timestamp    order_approved_at  \\\n",
       "266  unavailable      2017-11-16 15:09:28  2017-11-16 15:26:57   \n",
       "397     canceled      2018-08-04 14:29:27  2018-08-07 04:10:26   \n",
       "586  unavailable      2018-01-31 11:31:37  2018-01-31 14:23:50   \n",
       "613     canceled      2018-01-26 21:34:08  2018-01-26 21:58:39   \n",
       "687  unavailable      2017-08-14 17:38:02  2017-08-17 00:15:18   \n",
       "\n",
       "    order_delivered_carrier_date order_delivered_customer_date  \\\n",
       "266                          NaN                           NaN   \n",
       "397                          NaN                           NaN   \n",
       "586                          NaN                           NaN   \n",
       "613          2018-01-29 22:33:25                           NaN   \n",
       "687                          NaN                           NaN   \n",
       "\n",
       "    order_estimated_delivery_date purchase_month  \n",
       "266           2017-12-05 00:00:00            Nov  \n",
       "397           2018-08-14 00:00:00            Aug  \n",
       "586           2018-02-16 00:00:00            Jan  \n",
       "613           2018-02-22 00:00:00            Jan  \n",
       "687           2017-09-05 00:00:00            Aug  "
      ]
     },
     "execution_count": 22,
     "metadata": {},
     "output_type": "execute_result"
    }
   ],
   "source": [
    "orders_not_delivered.head()"
   ]
  },
  {
   "cell_type": "code",
   "execution_count": 23,
   "metadata": {},
   "outputs": [],
   "source": [
    "#подготовка данных для построения графика по недоставленным заказам по месяцам\n",
    "not_delivered_by_month = orders_not_delivered.groupby(['purchase_month', 'order_status'], as_index = False ) \\\n",
    "    .agg({'order_id':'count'}) \\\n",
    "    .rename(columns={'order_id':'not_delivered_orders'})"
   ]
  },
  {
   "cell_type": "code",
   "execution_count": 24,
   "metadata": {},
   "outputs": [
    {
     "data": {
      "text/plain": [
       "[Text(0.5, 0, 'Месяц заказа'), Text(0, 0.5, 'Недоставленные заказы, шт.')]"
      ]
     },
     "execution_count": 24,
     "metadata": {},
     "output_type": "execute_result"
    },
    {
     "data": {
      "image/png": "[encoded data removed]",
      "text/plain": [
       "<Figure size 640x480 with 1 Axes>"
      ]
     },
     "metadata": {},
     "output_type": "display_data"
    }
   ],
   "source": [
    "not_delivered_chart = sns.lineplot(x=not_delivered_by_month.purchase_month,\n",
    "             y=not_delivered_by_month.not_delivered_orders,\n",
    "             hue=not_delivered_by_month.order_status,\n",
    "             palette = ['r', 'y']) \n",
    "not_delivered_chart.set(xlabel='Месяц заказа', ylabel='Недоставленные заказы, шт.') #установка новых названий осей"
   ]
  },
  {
   "cell_type": "code",
   "execution_count": 29,
   "metadata": {},
   "outputs": [
    {
     "data": {
      "text/html": [
       "<div>\n",
       "<style scoped>\n",
       "    .dataframe tbody tr th:only-of-type {\n",
       "        vertical-align: middle;\n",
       "    }\n",
       "\n",
       "    .dataframe tbody tr th {\n",
       "        vertical-align: top;\n",
       "    }\n",
       "\n",
       "    .dataframe thead th {\n",
       "        text-align: right;\n",
       "    }\n",
       "</style>\n",
       "<table border=\"1\" class=\"dataframe\">\n",
       "  <thead>\n",
       "    <tr style=\"text-align: right;\">\n",
       "      <th></th>\n",
       "      <th>order_status</th>\n",
       "      <th>not_delivered_orders</th>\n",
       "    </tr>\n",
       "  </thead>\n",
       "  <tbody>\n",
       "    <tr>\n",
       "      <th>0</th>\n",
       "      <td>canceled</td>\n",
       "      <td>51.58</td>\n",
       "    </tr>\n",
       "    <tr>\n",
       "      <th>1</th>\n",
       "      <td>unavailable</td>\n",
       "      <td>50.75</td>\n",
       "    </tr>\n",
       "  </tbody>\n",
       "</table>\n",
       "</div>"
      ],
      "text/plain": [
       "  order_status  not_delivered_orders\n",
       "0     canceled                 51.58\n",
       "1  unavailable                 50.75"
      ]
     },
     "execution_count": 29,
     "metadata": {},
     "output_type": "execute_result"
    }
   ],
   "source": [
    "round(not_delivered_by_month.groupby('order_status', as_index = False).not_delivered_orders.mean(),2)"
   ]
  },
  {
   "cell_type": "markdown",
   "metadata": {},
   "source": [
    "### Ответ 2\n",
    "Среднее по причине отмены заказа: **51.58**\n",
    "\n",
    "Среднее по причине неизвестного статуса заказа: **50.75**"
   ]
  },
  {
   "cell_type": "markdown",
   "metadata": {},
   "source": [
    "# 3. По каждому товару определить, в какой день недели товар чаще всего покупается.\n",
    "\n",
    "Для задания будет использоваться таблица с состоявшимися покупками, определение которых дано в задании 1"
   ]
  },
  {
   "cell_type": "code",
   "execution_count": 30,
   "metadata": {},
   "outputs": [
    {
     "data": {
      "text/plain": [
       "order_id                         object\n",
       "customer_id                      object\n",
       "order_status                     object\n",
       "order_purchase_timestamp         object\n",
       "order_approved_at                object\n",
       "order_delivered_carrier_date     object\n",
       "order_delivered_customer_date    object\n",
       "order_estimated_delivery_date    object\n",
       "dtype: object"
      ]
     },
     "execution_count": 30,
     "metadata": {},
     "output_type": "execute_result"
    }
   ],
   "source": [
    "orders.dtypes"
   ]
  },
  {
   "cell_type": "code",
   "execution_count": 31,
   "metadata": {},
   "outputs": [],
   "source": [
    "purchases = orders_approved.query('order_status != [\"canceled\", \"unavailable\"]')"
   ]
  },
  {
   "cell_type": "code",
   "execution_count": 32,
   "metadata": {},
   "outputs": [
    {
     "name": "stderr",
     "output_type": "stream",
     "text": [
      "C:\\Users\\Evgeniy\\AppData\\Local\\Temp\\ipykernel_4100\\2996559951.py:2: SettingWithCopyWarning: \n",
      "A value is trying to be set on a copy of a slice from a DataFrame.\n",
      "Try using .loc[row_indexer,col_indexer] = value instead\n",
      "\n",
      "See the caveats in the documentation: https://pandas.pydata.org/pandas-docs/stable/user_guide/indexing.html#returning-a-view-versus-a-copy\n",
      "  purchases['order_approved_at'] = pd.to_datetime(orders.order_approved_at)\n"
     ]
    }
   ],
   "source": [
    "# перевод даты оплаты заказа в формат даты \n",
    "purchases['order_approved_at'] = pd.to_datetime(orders.order_approved_at)"
   ]
  },
  {
   "cell_type": "code",
   "execution_count": 33,
   "metadata": {},
   "outputs": [
    {
     "name": "stderr",
     "output_type": "stream",
     "text": [
      "C:\\Users\\Evgeniy\\AppData\\Local\\Temp\\ipykernel_4100\\2319884350.py:2: SettingWithCopyWarning: \n",
      "A value is trying to be set on a copy of a slice from a DataFrame.\n",
      "Try using .loc[row_indexer,col_indexer] = value instead\n",
      "\n",
      "See the caveats in the documentation: https://pandas.pydata.org/pandas-docs/stable/user_guide/indexing.html#returning-a-view-versus-a-copy\n",
      "  purchases['weekday'] = purchases['order_approved_at'].dt.day_name()\n"
     ]
    }
   ],
   "source": [
    "# добавление колонки с днем недели на основе даты оплаты заказа (покупки)\n",
    "purchases['weekday'] = purchases['order_approved_at'].dt.day_name() "
   ]
  },
  {
   "cell_type": "code",
   "execution_count": 34,
   "metadata": {},
   "outputs": [],
   "source": [
    "# добавляем код товара к таблице с покупками для дальнейших расчетов\n",
    "purchases_w_products = purchases.merge(items[['product_id', 'order_id']])"
   ]
  },
  {
   "cell_type": "code",
   "execution_count": 35,
   "metadata": {},
   "outputs": [],
   "source": [
    "# формирование df с группировкой по продукту, дню недели и количеству продаж\n",
    "purchases_per_day = purchases_w_products.groupby(['product_id', 'weekday'], as_index = False) \\\n",
    "    .agg({'order_id':'count'}) \\\n",
    "    .rename(columns={'order_id':'sales_per_day'})"
   ]
  },
  {
   "cell_type": "code",
   "execution_count": 36,
   "metadata": {},
   "outputs": [
    {
     "data": {
      "text/html": [
       "<div>\n",
       "<style scoped>\n",
       "    .dataframe tbody tr th:only-of-type {\n",
       "        vertical-align: middle;\n",
       "    }\n",
       "\n",
       "    .dataframe tbody tr th {\n",
       "        vertical-align: top;\n",
       "    }\n",
       "\n",
       "    .dataframe thead th {\n",
       "        text-align: right;\n",
       "    }\n",
       "</style>\n",
       "<table border=\"1\" class=\"dataframe\">\n",
       "  <thead>\n",
       "    <tr style=\"text-align: right;\">\n",
       "      <th></th>\n",
       "      <th>product_id</th>\n",
       "      <th>weekday</th>\n",
       "      <th>sales_per_day</th>\n",
       "    </tr>\n",
       "  </thead>\n",
       "  <tbody>\n",
       "    <tr>\n",
       "      <th>0</th>\n",
       "      <td>00066f42aeeb9f3007548bb9d3f33c38</td>\n",
       "      <td>Sunday</td>\n",
       "      <td>1</td>\n",
       "    </tr>\n",
       "    <tr>\n",
       "      <th>1</th>\n",
       "      <td>00088930e925c41fd95ebfe695fd2655</td>\n",
       "      <td>Tuesday</td>\n",
       "      <td>1</td>\n",
       "    </tr>\n",
       "    <tr>\n",
       "      <th>2</th>\n",
       "      <td>0009406fd7479715e4bef61dd91f2462</td>\n",
       "      <td>Friday</td>\n",
       "      <td>1</td>\n",
       "    </tr>\n",
       "    <tr>\n",
       "      <th>3</th>\n",
       "      <td>000b8f95fcb9e0096488278317764d19</td>\n",
       "      <td>Friday</td>\n",
       "      <td>1</td>\n",
       "    </tr>\n",
       "    <tr>\n",
       "      <th>4</th>\n",
       "      <td>000b8f95fcb9e0096488278317764d19</td>\n",
       "      <td>Wednesday</td>\n",
       "      <td>1</td>\n",
       "    </tr>\n",
       "  </tbody>\n",
       "</table>\n",
       "</div>"
      ],
      "text/plain": [
       "                         product_id    weekday  sales_per_day\n",
       "0  00066f42aeeb9f3007548bb9d3f33c38     Sunday              1\n",
       "1  00088930e925c41fd95ebfe695fd2655    Tuesday              1\n",
       "2  0009406fd7479715e4bef61dd91f2462     Friday              1\n",
       "3  000b8f95fcb9e0096488278317764d19     Friday              1\n",
       "4  000b8f95fcb9e0096488278317764d19  Wednesday              1"
      ]
     },
     "execution_count": 36,
     "metadata": {},
     "output_type": "execute_result"
    }
   ],
   "source": [
    "purchases_per_day.head()"
   ]
  },
  {
   "cell_type": "code",
   "execution_count": 37,
   "metadata": {},
   "outputs": [],
   "source": [
    "# вывод дня недели с максимальным количеством продаж для каждого продукта\n",
    "each_product_max = purchases_per_day.loc[purchases_per_day.groupby('product_id')['sales_per_day'].idxmax()]"
   ]
  },
  {
   "cell_type": "code",
   "execution_count": 38,
   "metadata": {},
   "outputs": [
    {
     "data": {
      "text/html": [
       "<div>\n",
       "<style scoped>\n",
       "    .dataframe tbody tr th:only-of-type {\n",
       "        vertical-align: middle;\n",
       "    }\n",
       "\n",
       "    .dataframe tbody tr th {\n",
       "        vertical-align: top;\n",
       "    }\n",
       "\n",
       "    .dataframe thead th {\n",
       "        text-align: right;\n",
       "    }\n",
       "</style>\n",
       "<table border=\"1\" class=\"dataframe\">\n",
       "  <thead>\n",
       "    <tr style=\"text-align: right;\">\n",
       "      <th></th>\n",
       "      <th>product_id</th>\n",
       "      <th>weekday</th>\n",
       "      <th>sales_per_day</th>\n",
       "    </tr>\n",
       "  </thead>\n",
       "  <tbody>\n",
       "    <tr>\n",
       "      <th>40850</th>\n",
       "      <td>aca2eb7d00ea1a7b8ebd4e68314663af</td>\n",
       "      <td>Tuesday</td>\n",
       "      <td>119</td>\n",
       "    </tr>\n",
       "    <tr>\n",
       "      <th>20036</th>\n",
       "      <td>53b36df67ebb7c41585e8d54d6772e08</td>\n",
       "      <td>Tuesday</td>\n",
       "      <td>105</td>\n",
       "    </tr>\n",
       "    <tr>\n",
       "      <th>15844</th>\n",
       "      <td>422879e10f46682990de24d770e7f83d</td>\n",
       "      <td>Tuesday</td>\n",
       "      <td>89</td>\n",
       "    </tr>\n",
       "    <tr>\n",
       "      <th>36363</th>\n",
       "      <td>99a4788cb24856965c36a24e339b6058</td>\n",
       "      <td>Tuesday</td>\n",
       "      <td>82</td>\n",
       "    </tr>\n",
       "    <tr>\n",
       "      <th>12996</th>\n",
       "      <td>368c6c730842d78016ad823897a372db</td>\n",
       "      <td>Thursday</td>\n",
       "      <td>80</td>\n",
       "    </tr>\n",
       "    <tr>\n",
       "      <th>...</th>\n",
       "      <td>...</td>\n",
       "      <td>...</td>\n",
       "      <td>...</td>\n",
       "    </tr>\n",
       "    <tr>\n",
       "      <th>23524</th>\n",
       "      <td>628cfb8a45c95a7b796ea06b006e9384</td>\n",
       "      <td>Saturday</td>\n",
       "      <td>1</td>\n",
       "    </tr>\n",
       "    <tr>\n",
       "      <th>23521</th>\n",
       "      <td>628b17449083fb34688b2959b80bdecd</td>\n",
       "      <td>Friday</td>\n",
       "      <td>1</td>\n",
       "    </tr>\n",
       "    <tr>\n",
       "      <th>23519</th>\n",
       "      <td>62892a47bea324c325a4556b66baef9d</td>\n",
       "      <td>Friday</td>\n",
       "      <td>1</td>\n",
       "    </tr>\n",
       "    <tr>\n",
       "      <th>23518</th>\n",
       "      <td>62874f62bbdeec35f7cd827b1716c47e</td>\n",
       "      <td>Wednesday</td>\n",
       "      <td>1</td>\n",
       "    </tr>\n",
       "    <tr>\n",
       "      <th>60792</th>\n",
       "      <td>fffe9eeff12fcbd74a2f2b007dde0c58</td>\n",
       "      <td>Wednesday</td>\n",
       "      <td>1</td>\n",
       "    </tr>\n",
       "  </tbody>\n",
       "</table>\n",
       "<p>32726 rows × 3 columns</p>\n",
       "</div>"
      ],
      "text/plain": [
       "                             product_id    weekday  sales_per_day\n",
       "40850  aca2eb7d00ea1a7b8ebd4e68314663af    Tuesday            119\n",
       "20036  53b36df67ebb7c41585e8d54d6772e08    Tuesday            105\n",
       "15844  422879e10f46682990de24d770e7f83d    Tuesday             89\n",
       "36363  99a4788cb24856965c36a24e339b6058    Tuesday             82\n",
       "12996  368c6c730842d78016ad823897a372db   Thursday             80\n",
       "...                                 ...        ...            ...\n",
       "23524  628cfb8a45c95a7b796ea06b006e9384   Saturday              1\n",
       "23521  628b17449083fb34688b2959b80bdecd     Friday              1\n",
       "23519  62892a47bea324c325a4556b66baef9d     Friday              1\n",
       "23518  62874f62bbdeec35f7cd827b1716c47e  Wednesday              1\n",
       "60792  fffe9eeff12fcbd74a2f2b007dde0c58  Wednesday              1\n",
       "\n",
       "[32726 rows x 3 columns]"
      ]
     },
     "execution_count": 38,
     "metadata": {},
     "output_type": "execute_result"
    }
   ],
   "source": [
    "each_product_max.sort_values('sales_per_day', ascending = False)"
   ]
  },
  {
   "cell_type": "markdown",
   "metadata": {},
   "source": [
    "### Ответ 3:\n",
    "df each_product_max"
   ]
  },
  {
   "cell_type": "markdown",
   "metadata": {},
   "source": [
    "# 4. Сколько у каждого из пользователей в среднем покупок в неделю (по месяцам)? Не стоит забывать, что внутри месяца может быть не целое количество недель. Например, в ноябре 2021 года 4,28 недели. И внутри метрики это нужно учесть.\n",
    "\n",
    "4.1 Посчитать покупки по пользователям в месяц\n",
    "\n",
    "4.2 Посчитать количество недель в месяце\n",
    "\n",
    "4.3 Посчитать среднее количество покупок в неделю по месяцу для каждого покупателя"
   ]
  },
  {
   "cell_type": "code",
   "execution_count": 39,
   "metadata": {},
   "outputs": [],
   "source": [
    "# сохраним df с покупками согласно логике 1-го задания\n",
    "# сразу также добавим уникальный код клиента для будущих рассчетов\n",
    "purchases_all = orders_approved.query('order_status != [\"canceled\", \"unavailable\"]') \\\n",
    "    .merge(customers[['customer_unique_id', 'customer_id']])"
   ]
  },
  {
   "cell_type": "code",
   "execution_count": 40,
   "metadata": {},
   "outputs": [],
   "source": [
    "# переведем дату покупки в формат даты для дальнейших вычислений с ней\n",
    "purchases_all['order_approved_at'] = pd.to_datetime(purchases_all.order_approved_at)"
   ]
  },
  {
   "cell_type": "code",
   "execution_count": 41,
   "metadata": {},
   "outputs": [],
   "source": [
    "# сохраним df с количеством покупок по клиентам и месяцам\n",
    "purchases_all_per_month = purchases_all.groupby(['customer_unique_id', 'order_approved_at'], as_index = False) \\\n",
    "    .agg({'order_id':'count'}) \\\n",
    "    .rename(columns={'order_id':'sales_per_month'})"
   ]
  },
  {
   "cell_type": "code",
   "execution_count": 42,
   "metadata": {},
   "outputs": [],
   "source": [
    "purchases_all_per_month['order_approved_at'] = pd.to_datetime(purchases_all_per_month.order_approved_at)"
   ]
  },
  {
   "cell_type": "code",
   "execution_count": 43,
   "metadata": {},
   "outputs": [],
   "source": [
    "# найдем количество дней в каждом месяце, чтобы посчитать среднее согласно условию задания\n",
    "purchases_all_per_month['days_in_month'] = purchases_all_per_month.order_approved_at.dt.days_in_month"
   ]
  },
  {
   "cell_type": "code",
   "execution_count": 44,
   "metadata": {},
   "outputs": [],
   "source": [
    "# найдем количество недель в каджом месяце\n",
    "purchases_all_per_month['weeks_per_month'] = purchases_all_per_month.days_in_month / 7"
   ]
  },
  {
   "cell_type": "code",
   "execution_count": 45,
   "metadata": {},
   "outputs": [],
   "source": [
    "# посчитаем среднее количество покупок в неделю для каждого клиента в каждом месяце\n",
    "purchases_all_per_month['avg_sales_per_week'] = (purchases_all_per_month.sales_per_month / purchases_all_per_month.weeks_per_month) \\\n",
    "    .round(3)"
   ]
  },
  {
   "cell_type": "code",
   "execution_count": 46,
   "metadata": {},
   "outputs": [],
   "source": [
    "purchases_all_per_month['month'] = purchases_all_per_month.order_approved_at.dt.month"
   ]
  },
  {
   "cell_type": "code",
   "execution_count": 47,
   "metadata": {},
   "outputs": [],
   "source": [
    "purchases_all_per_month['month'] = purchases_all_per_month['month'] \\\n",
    "    .apply(lambda x: calendar.month_abbr[x])"
   ]
  },
  {
   "cell_type": "code",
   "execution_count": 48,
   "metadata": {},
   "outputs": [
    {
     "data": {
      "text/plain": [
       "[Text(0.5, 0, 'Месяц заказа'), Text(0, 0.5, 'Avg покупки в неделю, шт.')]"
      ]
     },
     "execution_count": 48,
     "metadata": {},
     "output_type": "execute_result"
    },
    {
     "data": {
      "image/png": "[encoded data removed]",
      "text/plain": [
       "<Figure size 640x480 with 1 Axes>"
      ]
     },
     "metadata": {},
     "output_type": "display_data"
    }
   ],
   "source": [
    "avg_sales_per_customer_per_week = sns.lineplot(x=purchases_all_per_month.month,\n",
    "             y=purchases_all_per_month.avg_sales_per_week)\n",
    "            \n",
    "avg_sales_per_customer_per_week.set(xlabel='Месяц заказа', ylabel='Avg покупки в неделю, шт.')"
   ]
  },
  {
   "cell_type": "code",
   "execution_count": 49,
   "metadata": {},
   "outputs": [
    {
     "data": {
      "text/html": [
       "<div>\n",
       "<style scoped>\n",
       "    .dataframe tbody tr th:only-of-type {\n",
       "        vertical-align: middle;\n",
       "    }\n",
       "\n",
       "    .dataframe tbody tr th {\n",
       "        vertical-align: top;\n",
       "    }\n",
       "\n",
       "    .dataframe thead th {\n",
       "        text-align: right;\n",
       "    }\n",
       "</style>\n",
       "<table border=\"1\" class=\"dataframe\">\n",
       "  <thead>\n",
       "    <tr style=\"text-align: right;\">\n",
       "      <th></th>\n",
       "      <th>customer_unique_id</th>\n",
       "      <th>order_approved_at</th>\n",
       "      <th>sales_per_month</th>\n",
       "      <th>days_in_month</th>\n",
       "      <th>weeks_per_month</th>\n",
       "      <th>avg_sales_per_week</th>\n",
       "      <th>month</th>\n",
       "    </tr>\n",
       "  </thead>\n",
       "  <tbody>\n",
       "    <tr>\n",
       "      <th>0</th>\n",
       "      <td>0000366f3b9a7992bf8c76cfdf3221e2</td>\n",
       "      <td>2018-05-10 11:11:18</td>\n",
       "      <td>1</td>\n",
       "      <td>31</td>\n",
       "      <td>4.428571</td>\n",
       "      <td>0.226</td>\n",
       "      <td>May</td>\n",
       "    </tr>\n",
       "    <tr>\n",
       "      <th>1</th>\n",
       "      <td>0000b849f77a49e4a4ce2b2a4ca5be3f</td>\n",
       "      <td>2018-05-07 18:25:44</td>\n",
       "      <td>1</td>\n",
       "      <td>31</td>\n",
       "      <td>4.428571</td>\n",
       "      <td>0.226</td>\n",
       "      <td>May</td>\n",
       "    </tr>\n",
       "    <tr>\n",
       "      <th>2</th>\n",
       "      <td>0000f46a3911fa3c0805444483337064</td>\n",
       "      <td>2017-03-10 21:05:03</td>\n",
       "      <td>1</td>\n",
       "      <td>31</td>\n",
       "      <td>4.428571</td>\n",
       "      <td>0.226</td>\n",
       "      <td>Mar</td>\n",
       "    </tr>\n",
       "    <tr>\n",
       "      <th>3</th>\n",
       "      <td>0000f6ccb0745a6a4b88665a16c9f078</td>\n",
       "      <td>2017-10-12 20:49:17</td>\n",
       "      <td>1</td>\n",
       "      <td>31</td>\n",
       "      <td>4.428571</td>\n",
       "      <td>0.226</td>\n",
       "      <td>Oct</td>\n",
       "    </tr>\n",
       "    <tr>\n",
       "      <th>4</th>\n",
       "      <td>0004aac84e0df4da2b147fca70cf8255</td>\n",
       "      <td>2017-11-14 20:06:52</td>\n",
       "      <td>1</td>\n",
       "      <td>30</td>\n",
       "      <td>4.285714</td>\n",
       "      <td>0.233</td>\n",
       "      <td>Nov</td>\n",
       "    </tr>\n",
       "    <tr>\n",
       "      <th>5</th>\n",
       "      <td>0004bd2a26a76fe21f786e4fbd80607f</td>\n",
       "      <td>2018-04-05 19:48:59</td>\n",
       "      <td>1</td>\n",
       "      <td>30</td>\n",
       "      <td>4.285714</td>\n",
       "      <td>0.233</td>\n",
       "      <td>Apr</td>\n",
       "    </tr>\n",
       "    <tr>\n",
       "      <th>6</th>\n",
       "      <td>00050ab1314c0e55a6ca13cf7181fecf</td>\n",
       "      <td>2018-04-25 03:51:13</td>\n",
       "      <td>1</td>\n",
       "      <td>30</td>\n",
       "      <td>4.285714</td>\n",
       "      <td>0.233</td>\n",
       "      <td>Apr</td>\n",
       "    </tr>\n",
       "    <tr>\n",
       "      <th>7</th>\n",
       "      <td>00053a61a98854899e70ed204dd4bafe</td>\n",
       "      <td>2018-02-28 11:32:42</td>\n",
       "      <td>1</td>\n",
       "      <td>28</td>\n",
       "      <td>4.000000</td>\n",
       "      <td>0.250</td>\n",
       "      <td>Feb</td>\n",
       "    </tr>\n",
       "    <tr>\n",
       "      <th>8</th>\n",
       "      <td>0005e1862207bf6ccc02e4228effd9a0</td>\n",
       "      <td>2017-03-04 23:43:26</td>\n",
       "      <td>1</td>\n",
       "      <td>31</td>\n",
       "      <td>4.428571</td>\n",
       "      <td>0.226</td>\n",
       "      <td>Mar</td>\n",
       "    </tr>\n",
       "    <tr>\n",
       "      <th>9</th>\n",
       "      <td>0005ef4cd20d2893f0d9fbd94d3c0d97</td>\n",
       "      <td>2018-03-12 15:38:46</td>\n",
       "      <td>1</td>\n",
       "      <td>31</td>\n",
       "      <td>4.428571</td>\n",
       "      <td>0.226</td>\n",
       "      <td>Mar</td>\n",
       "    </tr>\n",
       "  </tbody>\n",
       "</table>\n",
       "</div>"
      ],
      "text/plain": [
       "                 customer_unique_id   order_approved_at  sales_per_month  \\\n",
       "0  0000366f3b9a7992bf8c76cfdf3221e2 2018-05-10 11:11:18                1   \n",
       "1  0000b849f77a49e4a4ce2b2a4ca5be3f 2018-05-07 18:25:44                1   \n",
       "2  0000f46a3911fa3c0805444483337064 2017-03-10 21:05:03                1   \n",
       "3  0000f6ccb0745a6a4b88665a16c9f078 2017-10-12 20:49:17                1   \n",
       "4  0004aac84e0df4da2b147fca70cf8255 2017-11-14 20:06:52                1   \n",
       "5  0004bd2a26a76fe21f786e4fbd80607f 2018-04-05 19:48:59                1   \n",
       "6  00050ab1314c0e55a6ca13cf7181fecf 2018-04-25 03:51:13                1   \n",
       "7  00053a61a98854899e70ed204dd4bafe 2018-02-28 11:32:42                1   \n",
       "8  0005e1862207bf6ccc02e4228effd9a0 2017-03-04 23:43:26                1   \n",
       "9  0005ef4cd20d2893f0d9fbd94d3c0d97 2018-03-12 15:38:46                1   \n",
       "\n",
       "   days_in_month  weeks_per_month  avg_sales_per_week month  \n",
       "0             31         4.428571               0.226   May  \n",
       "1             31         4.428571               0.226   May  \n",
       "2             31         4.428571               0.226   Mar  \n",
       "3             31         4.428571               0.226   Oct  \n",
       "4             30         4.285714               0.233   Nov  \n",
       "5             30         4.285714               0.233   Apr  \n",
       "6             30         4.285714               0.233   Apr  \n",
       "7             28         4.000000               0.250   Feb  \n",
       "8             31         4.428571               0.226   Mar  \n",
       "9             31         4.428571               0.226   Mar  "
      ]
     },
     "execution_count": 49,
     "metadata": {},
     "output_type": "execute_result"
    }
   ],
   "source": [
    "purchases_all_per_month.head(10)"
   ]
  },
  {
   "cell_type": "markdown",
   "metadata": {},
   "source": [
    "### Ответ 4: \n",
    "df - purchases_task4_per_month, колонка - avg_sales_per_week"
   ]
  },
  {
   "cell_type": "markdown",
   "metadata": {},
   "source": [
    "# 5. Используя pandas, проведи когортный анализ пользователей. В период с января по декабрь выяви когорту с самым высоким retention на 3й месяц."
   ]
  },
  {
   "cell_type": "code",
   "execution_count": 50,
   "metadata": {},
   "outputs": [],
   "source": [
    "# уберем ненужные для расчета колонки\n",
    "purchases_coh = purchases_all.drop(columns=['order_status', 'order_purchase_timestamp', 'order_delivered_carrier_date', \n",
    "                                   'order_delivered_customer_date', 'order_estimated_delivery_date'])"
   ]
  },
  {
   "cell_type": "code",
   "execution_count": 51,
   "metadata": {},
   "outputs": [
    {
     "data": {
      "text/html": [
       "<div>\n",
       "<style scoped>\n",
       "    .dataframe tbody tr th:only-of-type {\n",
       "        vertical-align: middle;\n",
       "    }\n",
       "\n",
       "    .dataframe tbody tr th {\n",
       "        vertical-align: top;\n",
       "    }\n",
       "\n",
       "    .dataframe thead th {\n",
       "        text-align: right;\n",
       "    }\n",
       "</style>\n",
       "<table border=\"1\" class=\"dataframe\">\n",
       "  <thead>\n",
       "    <tr style=\"text-align: right;\">\n",
       "      <th></th>\n",
       "      <th>order_id</th>\n",
       "      <th>customer_id</th>\n",
       "      <th>order_approved_at</th>\n",
       "      <th>customer_unique_id</th>\n",
       "    </tr>\n",
       "  </thead>\n",
       "  <tbody>\n",
       "    <tr>\n",
       "      <th>0</th>\n",
       "      <td>e481f51cbdc54678b7cc49136f2d6af7</td>\n",
       "      <td>9ef432eb6251297304e76186b10a928d</td>\n",
       "      <td>2017-10-02 11:07:15</td>\n",
       "      <td>7c396fd4830fd04220f754e42b4e5bff</td>\n",
       "    </tr>\n",
       "    <tr>\n",
       "      <th>1</th>\n",
       "      <td>53cdb2fc8bc7dce0b6741e2150273451</td>\n",
       "      <td>b0830fb4747a6c6d20dea0b8c802d7ef</td>\n",
       "      <td>2018-07-26 03:24:27</td>\n",
       "      <td>af07308b275d755c9edb36a90c618231</td>\n",
       "    </tr>\n",
       "    <tr>\n",
       "      <th>2</th>\n",
       "      <td>47770eb9100c2d0c44946d9cf07ec65d</td>\n",
       "      <td>41ce2a54c0b03bf3443c3d931a367089</td>\n",
       "      <td>2018-08-08 08:55:23</td>\n",
       "      <td>3a653a41f6f9fc3d2a113cf8398680e8</td>\n",
       "    </tr>\n",
       "    <tr>\n",
       "      <th>3</th>\n",
       "      <td>949d5b44dbf5de918fe9c16f97b45f8a</td>\n",
       "      <td>f88197465ea7920adcdbec7375364d82</td>\n",
       "      <td>2017-11-18 19:45:59</td>\n",
       "      <td>7c142cf63193a1473d2e66489a9ae977</td>\n",
       "    </tr>\n",
       "    <tr>\n",
       "      <th>4</th>\n",
       "      <td>ad21c59c0840e6cb83a9ceb5573f8159</td>\n",
       "      <td>8ab97904e6daea8866dbdbc4fb7aad2c</td>\n",
       "      <td>2018-02-13 22:20:29</td>\n",
       "      <td>72632f0f9dd73dfee390c9b22eb56dd6</td>\n",
       "    </tr>\n",
       "  </tbody>\n",
       "</table>\n",
       "</div>"
      ],
      "text/plain": [
       "                           order_id                       customer_id  \\\n",
       "0  e481f51cbdc54678b7cc49136f2d6af7  9ef432eb6251297304e76186b10a928d   \n",
       "1  53cdb2fc8bc7dce0b6741e2150273451  b0830fb4747a6c6d20dea0b8c802d7ef   \n",
       "2  47770eb9100c2d0c44946d9cf07ec65d  41ce2a54c0b03bf3443c3d931a367089   \n",
       "3  949d5b44dbf5de918fe9c16f97b45f8a  f88197465ea7920adcdbec7375364d82   \n",
       "4  ad21c59c0840e6cb83a9ceb5573f8159  8ab97904e6daea8866dbdbc4fb7aad2c   \n",
       "\n",
       "    order_approved_at                customer_unique_id  \n",
       "0 2017-10-02 11:07:15  7c396fd4830fd04220f754e42b4e5bff  \n",
       "1 2018-07-26 03:24:27  af07308b275d755c9edb36a90c618231  \n",
       "2 2018-08-08 08:55:23  3a653a41f6f9fc3d2a113cf8398680e8  \n",
       "3 2017-11-18 19:45:59  7c142cf63193a1473d2e66489a9ae977  \n",
       "4 2018-02-13 22:20:29  72632f0f9dd73dfee390c9b22eb56dd6  "
      ]
     },
     "execution_count": 51,
     "metadata": {},
     "output_type": "execute_result"
    }
   ],
   "source": [
    "purchases_coh.head()"
   ]
  },
  {
   "cell_type": "code",
   "execution_count": 52,
   "metadata": {},
   "outputs": [],
   "source": [
    "# перевод даты оплаты в формат даты для вычислений\n",
    "purchases_coh['purchase_date'] = purchases_coh['order_approved_at'].dt.date"
   ]
  },
  {
   "cell_type": "code",
   "execution_count": 53,
   "metadata": {},
   "outputs": [],
   "source": [
    "purchases_coh['year'] = purchases_coh.order_approved_at.dt.year"
   ]
  },
  {
   "cell_type": "code",
   "execution_count": 54,
   "metadata": {},
   "outputs": [],
   "source": [
    "purchases_coh = purchases_coh.query('year == 2017')"
   ]
  },
  {
   "cell_type": "code",
   "execution_count": 55,
   "metadata": {},
   "outputs": [],
   "source": [
    "# сгруппируем покупки по дате и идентификатору клиента\n",
    "purchases_coh_count = purchases_coh.groupby(['purchase_date', 'customer_unique_id']) \\\n",
    "    .agg({'order_id':'count'}) \\\n",
    "    .reset_index() \\\n",
    "    .rename(columns={'order_id':'purchase_count'})"
   ]
  },
  {
   "cell_type": "code",
   "execution_count": 56,
   "metadata": {},
   "outputs": [
    {
     "data": {
      "text/html": [
       "<div>\n",
       "<style scoped>\n",
       "    .dataframe tbody tr th:only-of-type {\n",
       "        vertical-align: middle;\n",
       "    }\n",
       "\n",
       "    .dataframe tbody tr th {\n",
       "        vertical-align: top;\n",
       "    }\n",
       "\n",
       "    .dataframe thead th {\n",
       "        text-align: right;\n",
       "    }\n",
       "</style>\n",
       "<table border=\"1\" class=\"dataframe\">\n",
       "  <thead>\n",
       "    <tr style=\"text-align: right;\">\n",
       "      <th></th>\n",
       "      <th>purchase_date</th>\n",
       "      <th>customer_unique_id</th>\n",
       "      <th>purchase_count</th>\n",
       "    </tr>\n",
       "  </thead>\n",
       "  <tbody>\n",
       "    <tr>\n",
       "      <th>0</th>\n",
       "      <td>2017-01-05</td>\n",
       "      <td>4b3207464f5f7a48a7f63fa0b1251d86</td>\n",
       "      <td>1</td>\n",
       "    </tr>\n",
       "    <tr>\n",
       "      <th>1</th>\n",
       "      <td>2017-01-05</td>\n",
       "      <td>b88b78a413e70182e18b032361b24f91</td>\n",
       "      <td>1</td>\n",
       "    </tr>\n",
       "    <tr>\n",
       "      <th>2</th>\n",
       "      <td>2017-01-05</td>\n",
       "      <td>f7b981e8a280e455ac3cbe0d5d171bd1</td>\n",
       "      <td>1</td>\n",
       "    </tr>\n",
       "    <tr>\n",
       "      <th>3</th>\n",
       "      <td>2017-01-06</td>\n",
       "      <td>318b69202a96429368680f215843340d</td>\n",
       "      <td>1</td>\n",
       "    </tr>\n",
       "    <tr>\n",
       "      <th>4</th>\n",
       "      <td>2017-01-06</td>\n",
       "      <td>48368b31672665cca1b8a03047a1702a</td>\n",
       "      <td>1</td>\n",
       "    </tr>\n",
       "  </tbody>\n",
       "</table>\n",
       "</div>"
      ],
      "text/plain": [
       "  purchase_date                customer_unique_id  purchase_count\n",
       "0    2017-01-05  4b3207464f5f7a48a7f63fa0b1251d86               1\n",
       "1    2017-01-05  b88b78a413e70182e18b032361b24f91               1\n",
       "2    2017-01-05  f7b981e8a280e455ac3cbe0d5d171bd1               1\n",
       "3    2017-01-06  318b69202a96429368680f215843340d               1\n",
       "4    2017-01-06  48368b31672665cca1b8a03047a1702a               1"
      ]
     },
     "execution_count": 56,
     "metadata": {},
     "output_type": "execute_result"
    }
   ],
   "source": [
    "purchases_coh_count.head()"
   ]
  },
  {
   "cell_type": "code",
   "execution_count": 57,
   "metadata": {},
   "outputs": [],
   "source": [
    "purchases_coh_count['purchase_date'] = pd.to_datetime(purchases_coh_count.purchase_date)"
   ]
  },
  {
   "cell_type": "code",
   "execution_count": 58,
   "metadata": {},
   "outputs": [],
   "source": [
    "purchases_coh_count['purchase_date'] = purchases_coh_count['purchase_date'].apply(lambda x: datetime.date(x.year, x.month,1))"
   ]
  },
  {
   "cell_type": "code",
   "execution_count": 59,
   "metadata": {},
   "outputs": [],
   "source": [
    "# добавим столбец даты привлечения клиента на основе даты первой покупки\n",
    "purchases_coh_count['acq_month'] = purchases_coh_count.groupby('customer_unique_id')['purchase_date'].transform('min')"
   ]
  },
  {
   "cell_type": "code",
   "execution_count": 60,
   "metadata": {},
   "outputs": [
    {
     "data": {
      "text/html": [
       "<div>\n",
       "<style scoped>\n",
       "    .dataframe tbody tr th:only-of-type {\n",
       "        vertical-align: middle;\n",
       "    }\n",
       "\n",
       "    .dataframe tbody tr th {\n",
       "        vertical-align: top;\n",
       "    }\n",
       "\n",
       "    .dataframe thead th {\n",
       "        text-align: right;\n",
       "    }\n",
       "</style>\n",
       "<table border=\"1\" class=\"dataframe\">\n",
       "  <thead>\n",
       "    <tr style=\"text-align: right;\">\n",
       "      <th></th>\n",
       "      <th>purchase_date</th>\n",
       "      <th>customer_unique_id</th>\n",
       "      <th>purchase_count</th>\n",
       "      <th>acq_month</th>\n",
       "    </tr>\n",
       "  </thead>\n",
       "  <tbody>\n",
       "    <tr>\n",
       "      <th>730</th>\n",
       "      <td>2017-02-01</td>\n",
       "      <td>325e19085f3017b73be3d9fd98a93301</td>\n",
       "      <td>1</td>\n",
       "      <td>2017-01-01</td>\n",
       "    </tr>\n",
       "    <tr>\n",
       "      <th>1286</th>\n",
       "      <td>2017-02-01</td>\n",
       "      <td>c76762dfb642ac154475239639f7f8f4</td>\n",
       "      <td>1</td>\n",
       "      <td>2017-01-01</td>\n",
       "    </tr>\n",
       "    <tr>\n",
       "      <th>1358</th>\n",
       "      <td>2017-02-01</td>\n",
       "      <td>a7bbfaf8a288c45dc38d4693535dd63f</td>\n",
       "      <td>1</td>\n",
       "      <td>2017-01-01</td>\n",
       "    </tr>\n",
       "    <tr>\n",
       "      <th>2375</th>\n",
       "      <td>2017-02-01</td>\n",
       "      <td>5c82413b70d65c90e4f9e465c303fc82</td>\n",
       "      <td>1</td>\n",
       "      <td>2017-01-01</td>\n",
       "    </tr>\n",
       "    <tr>\n",
       "      <th>2425</th>\n",
       "      <td>2017-03-01</td>\n",
       "      <td>318b8659483e12e9cbe1e6550d97f9d9</td>\n",
       "      <td>1</td>\n",
       "      <td>2017-02-01</td>\n",
       "    </tr>\n",
       "  </tbody>\n",
       "</table>\n",
       "</div>"
      ],
      "text/plain": [
       "     purchase_date                customer_unique_id  purchase_count  \\\n",
       "730     2017-02-01  325e19085f3017b73be3d9fd98a93301               1   \n",
       "1286    2017-02-01  c76762dfb642ac154475239639f7f8f4               1   \n",
       "1358    2017-02-01  a7bbfaf8a288c45dc38d4693535dd63f               1   \n",
       "2375    2017-02-01  5c82413b70d65c90e4f9e465c303fc82               1   \n",
       "2425    2017-03-01  318b8659483e12e9cbe1e6550d97f9d9               1   \n",
       "\n",
       "       acq_month  \n",
       "730   2017-01-01  \n",
       "1286  2017-01-01  \n",
       "1358  2017-01-01  \n",
       "2375  2017-01-01  \n",
       "2425  2017-02-01  "
      ]
     },
     "execution_count": 60,
     "metadata": {},
     "output_type": "execute_result"
    }
   ],
   "source": [
    "purchases_coh_count.loc[purchases_coh_count['purchase_date'] != purchases_coh_count['acq_month']].head()"
   ]
  },
  {
   "cell_type": "code",
   "execution_count": 61,
   "metadata": {},
   "outputs": [
    {
     "data": {
      "text/html": [
       "<div>\n",
       "<style scoped>\n",
       "    .dataframe tbody tr th:only-of-type {\n",
       "        vertical-align: middle;\n",
       "    }\n",
       "\n",
       "    .dataframe tbody tr th {\n",
       "        vertical-align: top;\n",
       "    }\n",
       "\n",
       "    .dataframe thead th {\n",
       "        text-align: right;\n",
       "    }\n",
       "</style>\n",
       "<table border=\"1\" class=\"dataframe\">\n",
       "  <thead>\n",
       "    <tr style=\"text-align: right;\">\n",
       "      <th></th>\n",
       "      <th>purchase_date</th>\n",
       "      <th>customer_unique_id</th>\n",
       "      <th>purchase_count</th>\n",
       "      <th>acq_month</th>\n",
       "      <th>cohort_idx</th>\n",
       "    </tr>\n",
       "  </thead>\n",
       "  <tbody>\n",
       "    <tr>\n",
       "      <th>0</th>\n",
       "      <td>2017-01-01</td>\n",
       "      <td>4b3207464f5f7a48a7f63fa0b1251d86</td>\n",
       "      <td>1</td>\n",
       "      <td>2017-01-01</td>\n",
       "      <td>1</td>\n",
       "    </tr>\n",
       "    <tr>\n",
       "      <th>1</th>\n",
       "      <td>2017-01-01</td>\n",
       "      <td>b88b78a413e70182e18b032361b24f91</td>\n",
       "      <td>1</td>\n",
       "      <td>2017-01-01</td>\n",
       "      <td>1</td>\n",
       "    </tr>\n",
       "    <tr>\n",
       "      <th>2</th>\n",
       "      <td>2017-01-01</td>\n",
       "      <td>f7b981e8a280e455ac3cbe0d5d171bd1</td>\n",
       "      <td>1</td>\n",
       "      <td>2017-01-01</td>\n",
       "      <td>1</td>\n",
       "    </tr>\n",
       "    <tr>\n",
       "      <th>3</th>\n",
       "      <td>2017-01-01</td>\n",
       "      <td>318b69202a96429368680f215843340d</td>\n",
       "      <td>1</td>\n",
       "      <td>2017-01-01</td>\n",
       "      <td>1</td>\n",
       "    </tr>\n",
       "    <tr>\n",
       "      <th>4</th>\n",
       "      <td>2017-01-01</td>\n",
       "      <td>48368b31672665cca1b8a03047a1702a</td>\n",
       "      <td>1</td>\n",
       "      <td>2017-01-01</td>\n",
       "      <td>1</td>\n",
       "    </tr>\n",
       "  </tbody>\n",
       "</table>\n",
       "</div>"
      ],
      "text/plain": [
       "  purchase_date                customer_unique_id  purchase_count   acq_month  \\\n",
       "0    2017-01-01  4b3207464f5f7a48a7f63fa0b1251d86               1  2017-01-01   \n",
       "1    2017-01-01  b88b78a413e70182e18b032361b24f91               1  2017-01-01   \n",
       "2    2017-01-01  f7b981e8a280e455ac3cbe0d5d171bd1               1  2017-01-01   \n",
       "3    2017-01-01  318b69202a96429368680f215843340d               1  2017-01-01   \n",
       "4    2017-01-01  48368b31672665cca1b8a03047a1702a               1  2017-01-01   \n",
       "\n",
       "   cohort_idx  \n",
       "0           1  \n",
       "1           1  \n",
       "2           1  \n",
       "3           1  \n",
       "4           1  "
      ]
     },
     "execution_count": 61,
     "metadata": {},
     "output_type": "execute_result"
    }
   ],
   "source": [
    "# функция для рассчета периодов между датой последней транзакции и даты привлечения клиента\n",
    "def diff_month(x):\n",
    "    date_1 = x['purchase_date']\n",
    "    date_2 = x[\"acq_month\"]\n",
    "    return ((date_1.year - date_2.year) * 12 + date_1.month - date_2.month) + 1 # начинаем рассчет с 1 периода\n",
    "\n",
    "purchases_coh_count['cohort_idx'] = purchases_coh_count.apply(lambda x: diff_month(x), axis=1) # посчитать ф-ию для всех строк\n",
    "purchases_coh_count.head()"
   ]
  },
  {
   "cell_type": "code",
   "execution_count": 62,
   "metadata": {},
   "outputs": [],
   "source": [
    "# функция для создания матрицы с когортами\n",
    "def get_cohort_matrix(data, var='customer_unique_id', fun=pd.Series.nunique):\n",
    "    cd = data.groupby(['acq_month', 'cohort_idx'])[var].apply(fun).reset_index() # добавить даты и когорты для матрицы\n",
    "    cc = cd.pivot_table(index = 'acq_month', columns = 'cohort_idx', values = var) # наполнить матрицу значениями количества\n",
    "    cs = cc.iloc[:,0] # выбор 1-й колонки \n",
    "    retention = cc.divide(cs, axis = 0) # создание коэф-та удержания как отношения значения на месяц х / изначальное кол-во\n",
    "    retention = retention.round(4) * 100 # процент удержания\n",
    "    return cc, retention"
   ]
  },
  {
   "cell_type": "code",
   "execution_count": 63,
   "metadata": {},
   "outputs": [],
   "source": [
    "cc, retention = get_cohort_matrix(purchases_coh_count)"
   ]
  },
  {
   "cell_type": "code",
   "execution_count": 64,
   "metadata": {},
   "outputs": [
    {
     "data": {
      "text/html": [
       "<div>\n",
       "<style scoped>\n",
       "    .dataframe tbody tr th:only-of-type {\n",
       "        vertical-align: middle;\n",
       "    }\n",
       "\n",
       "    .dataframe tbody tr th {\n",
       "        vertical-align: top;\n",
       "    }\n",
       "\n",
       "    .dataframe thead th {\n",
       "        text-align: right;\n",
       "    }\n",
       "</style>\n",
       "<table border=\"1\" class=\"dataframe\">\n",
       "  <thead>\n",
       "    <tr style=\"text-align: right;\">\n",
       "      <th>cohort_idx</th>\n",
       "      <th>1</th>\n",
       "      <th>2</th>\n",
       "      <th>3</th>\n",
       "      <th>4</th>\n",
       "      <th>5</th>\n",
       "      <th>6</th>\n",
       "      <th>7</th>\n",
       "      <th>8</th>\n",
       "      <th>9</th>\n",
       "      <th>10</th>\n",
       "      <th>11</th>\n",
       "      <th>12</th>\n",
       "    </tr>\n",
       "    <tr>\n",
       "      <th>acq_month</th>\n",
       "      <th></th>\n",
       "      <th></th>\n",
       "      <th></th>\n",
       "      <th></th>\n",
       "      <th></th>\n",
       "      <th></th>\n",
       "      <th></th>\n",
       "      <th></th>\n",
       "      <th></th>\n",
       "      <th></th>\n",
       "      <th></th>\n",
       "      <th></th>\n",
       "    </tr>\n",
       "  </thead>\n",
       "  <tbody>\n",
       "    <tr>\n",
       "      <th>2017-01-01</th>\n",
       "      <td>717.0</td>\n",
       "      <td>4.0</td>\n",
       "      <td>2.0</td>\n",
       "      <td>1.0</td>\n",
       "      <td>3.0</td>\n",
       "      <td>1.0</td>\n",
       "      <td>3.0</td>\n",
       "      <td>1.0</td>\n",
       "      <td>1.0</td>\n",
       "      <td>NaN</td>\n",
       "      <td>2.0</td>\n",
       "      <td>2.0</td>\n",
       "    </tr>\n",
       "    <tr>\n",
       "      <th>2017-02-01</th>\n",
       "      <td>1674.0</td>\n",
       "      <td>4.0</td>\n",
       "      <td>4.0</td>\n",
       "      <td>3.0</td>\n",
       "      <td>7.0</td>\n",
       "      <td>2.0</td>\n",
       "      <td>4.0</td>\n",
       "      <td>3.0</td>\n",
       "      <td>1.0</td>\n",
       "      <td>3.0</td>\n",
       "      <td>2.0</td>\n",
       "      <td>NaN</td>\n",
       "    </tr>\n",
       "    <tr>\n",
       "      <th>2017-03-01</th>\n",
       "      <td>2580.0</td>\n",
       "      <td>13.0</td>\n",
       "      <td>9.0</td>\n",
       "      <td>9.0</td>\n",
       "      <td>9.0</td>\n",
       "      <td>4.0</td>\n",
       "      <td>4.0</td>\n",
       "      <td>8.0</td>\n",
       "      <td>8.0</td>\n",
       "      <td>3.0</td>\n",
       "      <td>NaN</td>\n",
       "      <td>NaN</td>\n",
       "    </tr>\n",
       "    <tr>\n",
       "      <th>2017-04-01</th>\n",
       "      <td>2302.0</td>\n",
       "      <td>14.0</td>\n",
       "      <td>5.0</td>\n",
       "      <td>4.0</td>\n",
       "      <td>6.0</td>\n",
       "      <td>6.0</td>\n",
       "      <td>8.0</td>\n",
       "      <td>6.0</td>\n",
       "      <td>8.0</td>\n",
       "      <td>NaN</td>\n",
       "      <td>NaN</td>\n",
       "      <td>NaN</td>\n",
       "    </tr>\n",
       "    <tr>\n",
       "      <th>2017-05-01</th>\n",
       "      <td>3543.0</td>\n",
       "      <td>19.0</td>\n",
       "      <td>17.0</td>\n",
       "      <td>14.0</td>\n",
       "      <td>11.0</td>\n",
       "      <td>12.0</td>\n",
       "      <td>15.0</td>\n",
       "      <td>5.0</td>\n",
       "      <td>NaN</td>\n",
       "      <td>NaN</td>\n",
       "      <td>NaN</td>\n",
       "      <td>NaN</td>\n",
       "    </tr>\n",
       "    <tr>\n",
       "      <th>2017-06-01</th>\n",
       "      <td>3110.0</td>\n",
       "      <td>14.0</td>\n",
       "      <td>11.0</td>\n",
       "      <td>12.0</td>\n",
       "      <td>8.0</td>\n",
       "      <td>11.0</td>\n",
       "      <td>11.0</td>\n",
       "      <td>NaN</td>\n",
       "      <td>NaN</td>\n",
       "      <td>NaN</td>\n",
       "      <td>NaN</td>\n",
       "      <td>NaN</td>\n",
       "    </tr>\n",
       "    <tr>\n",
       "      <th>2017-07-01</th>\n",
       "      <td>3777.0</td>\n",
       "      <td>20.0</td>\n",
       "      <td>12.0</td>\n",
       "      <td>7.0</td>\n",
       "      <td>13.0</td>\n",
       "      <td>7.0</td>\n",
       "      <td>NaN</td>\n",
       "      <td>NaN</td>\n",
       "      <td>NaN</td>\n",
       "      <td>NaN</td>\n",
       "      <td>NaN</td>\n",
       "      <td>NaN</td>\n",
       "    </tr>\n",
       "    <tr>\n",
       "      <th>2017-08-01</th>\n",
       "      <td>4154.0</td>\n",
       "      <td>28.0</td>\n",
       "      <td>15.0</td>\n",
       "      <td>11.0</td>\n",
       "      <td>16.0</td>\n",
       "      <td>NaN</td>\n",
       "      <td>NaN</td>\n",
       "      <td>NaN</td>\n",
       "      <td>NaN</td>\n",
       "      <td>NaN</td>\n",
       "      <td>NaN</td>\n",
       "      <td>NaN</td>\n",
       "    </tr>\n",
       "    <tr>\n",
       "      <th>2017-09-01</th>\n",
       "      <td>4098.0</td>\n",
       "      <td>27.0</td>\n",
       "      <td>20.0</td>\n",
       "      <td>14.0</td>\n",
       "      <td>NaN</td>\n",
       "      <td>NaN</td>\n",
       "      <td>NaN</td>\n",
       "      <td>NaN</td>\n",
       "      <td>NaN</td>\n",
       "      <td>NaN</td>\n",
       "      <td>NaN</td>\n",
       "      <td>NaN</td>\n",
       "    </tr>\n",
       "    <tr>\n",
       "      <th>2017-10-01</th>\n",
       "      <td>4360.0</td>\n",
       "      <td>30.0</td>\n",
       "      <td>13.0</td>\n",
       "      <td>NaN</td>\n",
       "      <td>NaN</td>\n",
       "      <td>NaN</td>\n",
       "      <td>NaN</td>\n",
       "      <td>NaN</td>\n",
       "      <td>NaN</td>\n",
       "      <td>NaN</td>\n",
       "      <td>NaN</td>\n",
       "      <td>NaN</td>\n",
       "    </tr>\n",
       "    <tr>\n",
       "      <th>2017-11-01</th>\n",
       "      <td>7054.0</td>\n",
       "      <td>39.0</td>\n",
       "      <td>NaN</td>\n",
       "      <td>NaN</td>\n",
       "      <td>NaN</td>\n",
       "      <td>NaN</td>\n",
       "      <td>NaN</td>\n",
       "      <td>NaN</td>\n",
       "      <td>NaN</td>\n",
       "      <td>NaN</td>\n",
       "      <td>NaN</td>\n",
       "      <td>NaN</td>\n",
       "    </tr>\n",
       "    <tr>\n",
       "      <th>2017-12-01</th>\n",
       "      <td>5591.0</td>\n",
       "      <td>NaN</td>\n",
       "      <td>NaN</td>\n",
       "      <td>NaN</td>\n",
       "      <td>NaN</td>\n",
       "      <td>NaN</td>\n",
       "      <td>NaN</td>\n",
       "      <td>NaN</td>\n",
       "      <td>NaN</td>\n",
       "      <td>NaN</td>\n",
       "      <td>NaN</td>\n",
       "      <td>NaN</td>\n",
       "    </tr>\n",
       "  </tbody>\n",
       "</table>\n",
       "</div>"
      ],
      "text/plain": [
       "cohort_idx      1     2     3     4     5     6     7    8    9    10   11  \\\n",
       "acq_month                                                                    \n",
       "2017-01-01   717.0   4.0   2.0   1.0   3.0   1.0   3.0  1.0  1.0  NaN  2.0   \n",
       "2017-02-01  1674.0   4.0   4.0   3.0   7.0   2.0   4.0  3.0  1.0  3.0  2.0   \n",
       "2017-03-01  2580.0  13.0   9.0   9.0   9.0   4.0   4.0  8.0  8.0  3.0  NaN   \n",
       "2017-04-01  2302.0  14.0   5.0   4.0   6.0   6.0   8.0  6.0  8.0  NaN  NaN   \n",
       "2017-05-01  3543.0  19.0  17.0  14.0  11.0  12.0  15.0  5.0  NaN  NaN  NaN   \n",
       "2017-06-01  3110.0  14.0  11.0  12.0   8.0  11.0  11.0  NaN  NaN  NaN  NaN   \n",
       "2017-07-01  3777.0  20.0  12.0   7.0  13.0   7.0   NaN  NaN  NaN  NaN  NaN   \n",
       "2017-08-01  4154.0  28.0  15.0  11.0  16.0   NaN   NaN  NaN  NaN  NaN  NaN   \n",
       "2017-09-01  4098.0  27.0  20.0  14.0   NaN   NaN   NaN  NaN  NaN  NaN  NaN   \n",
       "2017-10-01  4360.0  30.0  13.0   NaN   NaN   NaN   NaN  NaN  NaN  NaN  NaN   \n",
       "2017-11-01  7054.0  39.0   NaN   NaN   NaN   NaN   NaN  NaN  NaN  NaN  NaN   \n",
       "2017-12-01  5591.0   NaN   NaN   NaN   NaN   NaN   NaN  NaN  NaN  NaN  NaN   \n",
       "\n",
       "cohort_idx   12  \n",
       "acq_month        \n",
       "2017-01-01  2.0  \n",
       "2017-02-01  NaN  \n",
       "2017-03-01  NaN  \n",
       "2017-04-01  NaN  \n",
       "2017-05-01  NaN  \n",
       "2017-06-01  NaN  \n",
       "2017-07-01  NaN  \n",
       "2017-08-01  NaN  \n",
       "2017-09-01  NaN  \n",
       "2017-10-01  NaN  \n",
       "2017-11-01  NaN  \n",
       "2017-12-01  NaN  "
      ]
     },
     "execution_count": 64,
     "metadata": {},
     "output_type": "execute_result"
    }
   ],
   "source": [
    "cc"
   ]
  },
  {
   "cell_type": "code",
   "execution_count": 65,
   "metadata": {},
   "outputs": [
    {
     "data": {
      "text/html": [
       "<div>\n",
       "<style scoped>\n",
       "    .dataframe tbody tr th:only-of-type {\n",
       "        vertical-align: middle;\n",
       "    }\n",
       "\n",
       "    .dataframe tbody tr th {\n",
       "        vertical-align: top;\n",
       "    }\n",
       "\n",
       "    .dataframe thead th {\n",
       "        text-align: right;\n",
       "    }\n",
       "</style>\n",
       "<table border=\"1\" class=\"dataframe\">\n",
       "  <thead>\n",
       "    <tr style=\"text-align: right;\">\n",
       "      <th>cohort_idx</th>\n",
       "      <th>1</th>\n",
       "      <th>2</th>\n",
       "      <th>3</th>\n",
       "      <th>4</th>\n",
       "      <th>5</th>\n",
       "      <th>6</th>\n",
       "      <th>7</th>\n",
       "      <th>8</th>\n",
       "      <th>9</th>\n",
       "      <th>10</th>\n",
       "      <th>11</th>\n",
       "      <th>12</th>\n",
       "    </tr>\n",
       "    <tr>\n",
       "      <th>acq_month</th>\n",
       "      <th></th>\n",
       "      <th></th>\n",
       "      <th></th>\n",
       "      <th></th>\n",
       "      <th></th>\n",
       "      <th></th>\n",
       "      <th></th>\n",
       "      <th></th>\n",
       "      <th></th>\n",
       "      <th></th>\n",
       "      <th></th>\n",
       "      <th></th>\n",
       "    </tr>\n",
       "  </thead>\n",
       "  <tbody>\n",
       "    <tr>\n",
       "      <th>2017-01-01</th>\n",
       "      <td>100.0</td>\n",
       "      <td>0.56</td>\n",
       "      <td>0.28</td>\n",
       "      <td>0.14</td>\n",
       "      <td>0.42</td>\n",
       "      <td>0.14</td>\n",
       "      <td>0.42</td>\n",
       "      <td>0.14</td>\n",
       "      <td>0.14</td>\n",
       "      <td>NaN</td>\n",
       "      <td>0.28</td>\n",
       "      <td>0.28</td>\n",
       "    </tr>\n",
       "    <tr>\n",
       "      <th>2017-02-01</th>\n",
       "      <td>100.0</td>\n",
       "      <td>0.24</td>\n",
       "      <td>0.24</td>\n",
       "      <td>0.18</td>\n",
       "      <td>0.42</td>\n",
       "      <td>0.12</td>\n",
       "      <td>0.24</td>\n",
       "      <td>0.18</td>\n",
       "      <td>0.06</td>\n",
       "      <td>0.18</td>\n",
       "      <td>0.12</td>\n",
       "      <td>NaN</td>\n",
       "    </tr>\n",
       "    <tr>\n",
       "      <th>2017-03-01</th>\n",
       "      <td>100.0</td>\n",
       "      <td>0.50</td>\n",
       "      <td>0.35</td>\n",
       "      <td>0.35</td>\n",
       "      <td>0.35</td>\n",
       "      <td>0.16</td>\n",
       "      <td>0.16</td>\n",
       "      <td>0.31</td>\n",
       "      <td>0.31</td>\n",
       "      <td>0.12</td>\n",
       "      <td>NaN</td>\n",
       "      <td>NaN</td>\n",
       "    </tr>\n",
       "    <tr>\n",
       "      <th>2017-04-01</th>\n",
       "      <td>100.0</td>\n",
       "      <td>0.61</td>\n",
       "      <td>0.22</td>\n",
       "      <td>0.17</td>\n",
       "      <td>0.26</td>\n",
       "      <td>0.26</td>\n",
       "      <td>0.35</td>\n",
       "      <td>0.26</td>\n",
       "      <td>0.35</td>\n",
       "      <td>NaN</td>\n",
       "      <td>NaN</td>\n",
       "      <td>NaN</td>\n",
       "    </tr>\n",
       "    <tr>\n",
       "      <th>2017-05-01</th>\n",
       "      <td>100.0</td>\n",
       "      <td>0.54</td>\n",
       "      <td>0.48</td>\n",
       "      <td>0.40</td>\n",
       "      <td>0.31</td>\n",
       "      <td>0.34</td>\n",
       "      <td>0.42</td>\n",
       "      <td>0.14</td>\n",
       "      <td>NaN</td>\n",
       "      <td>NaN</td>\n",
       "      <td>NaN</td>\n",
       "      <td>NaN</td>\n",
       "    </tr>\n",
       "    <tr>\n",
       "      <th>2017-06-01</th>\n",
       "      <td>100.0</td>\n",
       "      <td>0.45</td>\n",
       "      <td>0.35</td>\n",
       "      <td>0.39</td>\n",
       "      <td>0.26</td>\n",
       "      <td>0.35</td>\n",
       "      <td>0.35</td>\n",
       "      <td>NaN</td>\n",
       "      <td>NaN</td>\n",
       "      <td>NaN</td>\n",
       "      <td>NaN</td>\n",
       "      <td>NaN</td>\n",
       "    </tr>\n",
       "    <tr>\n",
       "      <th>2017-07-01</th>\n",
       "      <td>100.0</td>\n",
       "      <td>0.53</td>\n",
       "      <td>0.32</td>\n",
       "      <td>0.19</td>\n",
       "      <td>0.34</td>\n",
       "      <td>0.19</td>\n",
       "      <td>NaN</td>\n",
       "      <td>NaN</td>\n",
       "      <td>NaN</td>\n",
       "      <td>NaN</td>\n",
       "      <td>NaN</td>\n",
       "      <td>NaN</td>\n",
       "    </tr>\n",
       "    <tr>\n",
       "      <th>2017-08-01</th>\n",
       "      <td>100.0</td>\n",
       "      <td>0.67</td>\n",
       "      <td>0.36</td>\n",
       "      <td>0.26</td>\n",
       "      <td>0.39</td>\n",
       "      <td>NaN</td>\n",
       "      <td>NaN</td>\n",
       "      <td>NaN</td>\n",
       "      <td>NaN</td>\n",
       "      <td>NaN</td>\n",
       "      <td>NaN</td>\n",
       "      <td>NaN</td>\n",
       "    </tr>\n",
       "    <tr>\n",
       "      <th>2017-09-01</th>\n",
       "      <td>100.0</td>\n",
       "      <td>0.66</td>\n",
       "      <td>0.49</td>\n",
       "      <td>0.34</td>\n",
       "      <td>NaN</td>\n",
       "      <td>NaN</td>\n",
       "      <td>NaN</td>\n",
       "      <td>NaN</td>\n",
       "      <td>NaN</td>\n",
       "      <td>NaN</td>\n",
       "      <td>NaN</td>\n",
       "      <td>NaN</td>\n",
       "    </tr>\n",
       "    <tr>\n",
       "      <th>2017-10-01</th>\n",
       "      <td>100.0</td>\n",
       "      <td>0.69</td>\n",
       "      <td>0.30</td>\n",
       "      <td>NaN</td>\n",
       "      <td>NaN</td>\n",
       "      <td>NaN</td>\n",
       "      <td>NaN</td>\n",
       "      <td>NaN</td>\n",
       "      <td>NaN</td>\n",
       "      <td>NaN</td>\n",
       "      <td>NaN</td>\n",
       "      <td>NaN</td>\n",
       "    </tr>\n",
       "    <tr>\n",
       "      <th>2017-11-01</th>\n",
       "      <td>100.0</td>\n",
       "      <td>0.55</td>\n",
       "      <td>NaN</td>\n",
       "      <td>NaN</td>\n",
       "      <td>NaN</td>\n",
       "      <td>NaN</td>\n",
       "      <td>NaN</td>\n",
       "      <td>NaN</td>\n",
       "      <td>NaN</td>\n",
       "      <td>NaN</td>\n",
       "      <td>NaN</td>\n",
       "      <td>NaN</td>\n",
       "    </tr>\n",
       "    <tr>\n",
       "      <th>2017-12-01</th>\n",
       "      <td>100.0</td>\n",
       "      <td>NaN</td>\n",
       "      <td>NaN</td>\n",
       "      <td>NaN</td>\n",
       "      <td>NaN</td>\n",
       "      <td>NaN</td>\n",
       "      <td>NaN</td>\n",
       "      <td>NaN</td>\n",
       "      <td>NaN</td>\n",
       "      <td>NaN</td>\n",
       "      <td>NaN</td>\n",
       "      <td>NaN</td>\n",
       "    </tr>\n",
       "  </tbody>\n",
       "</table>\n",
       "</div>"
      ],
      "text/plain": [
       "cohort_idx     1     2     3     4     5     6     7     8     9     10    11  \\\n",
       "acq_month                                                                       \n",
       "2017-01-01  100.0  0.56  0.28  0.14  0.42  0.14  0.42  0.14  0.14   NaN  0.28   \n",
       "2017-02-01  100.0  0.24  0.24  0.18  0.42  0.12  0.24  0.18  0.06  0.18  0.12   \n",
       "2017-03-01  100.0  0.50  0.35  0.35  0.35  0.16  0.16  0.31  0.31  0.12   NaN   \n",
       "2017-04-01  100.0  0.61  0.22  0.17  0.26  0.26  0.35  0.26  0.35   NaN   NaN   \n",
       "2017-05-01  100.0  0.54  0.48  0.40  0.31  0.34  0.42  0.14   NaN   NaN   NaN   \n",
       "2017-06-01  100.0  0.45  0.35  0.39  0.26  0.35  0.35   NaN   NaN   NaN   NaN   \n",
       "2017-07-01  100.0  0.53  0.32  0.19  0.34  0.19   NaN   NaN   NaN   NaN   NaN   \n",
       "2017-08-01  100.0  0.67  0.36  0.26  0.39   NaN   NaN   NaN   NaN   NaN   NaN   \n",
       "2017-09-01  100.0  0.66  0.49  0.34   NaN   NaN   NaN   NaN   NaN   NaN   NaN   \n",
       "2017-10-01  100.0  0.69  0.30   NaN   NaN   NaN   NaN   NaN   NaN   NaN   NaN   \n",
       "2017-11-01  100.0  0.55   NaN   NaN   NaN   NaN   NaN   NaN   NaN   NaN   NaN   \n",
       "2017-12-01  100.0   NaN   NaN   NaN   NaN   NaN   NaN   NaN   NaN   NaN   NaN   \n",
       "\n",
       "cohort_idx    12  \n",
       "acq_month         \n",
       "2017-01-01  0.28  \n",
       "2017-02-01   NaN  \n",
       "2017-03-01   NaN  \n",
       "2017-04-01   NaN  \n",
       "2017-05-01   NaN  \n",
       "2017-06-01   NaN  \n",
       "2017-07-01   NaN  \n",
       "2017-08-01   NaN  \n",
       "2017-09-01   NaN  \n",
       "2017-10-01   NaN  \n",
       "2017-11-01   NaN  \n",
       "2017-12-01   NaN  "
      ]
     },
     "execution_count": 65,
     "metadata": {},
     "output_type": "execute_result"
    }
   ],
   "source": [
    "retention"
   ]
  },
  {
   "cell_type": "code",
   "execution_count": 68,
   "metadata": {},
   "outputs": [
    {
     "data": {
      "text/plain": [
       "<AxesSubplot:title={'center':'Когорты: Retention Rate'}, xlabel='cohort_idx', ylabel='acq_month'>"
      ]
     },
     "execution_count": 68,
     "metadata": {},
     "output_type": "execute_result"
    },
    {
     "data": {
      "image/png": "[encoded data removed]",
      "text/plain": [
       "<Figure size 1500x900 with 2 Axes>"
      ]
     },
     "metadata": {},
     "output_type": "display_data"
    }
   ],
   "source": [
    "cmap = sns.cm.rocket_r\n",
    "sns.set(style='ticks')\n",
    "plt.figure(figsize=(15, 9))\n",
    "plt.xlabel('Когорты')\n",
    "plt.title('Когорты: Retention Rate')\n",
    "sns.heatmap(retention, annot=True, cmap=cmap, vmin=0, vmax=2, center= 1)"
   ]
  },
  {
   "cell_type": "markdown",
   "metadata": {},
   "source": [
    "### Ответ 5:\n",
    "\n",
    "Когорта с самым высоким процентом удержания на 3-й месяц (49%) - **2017-09-01**"
   ]
  },
  {
   "cell_type": "markdown",
   "metadata": {},
   "source": [
    "# 6. Часто для качественного анализа аудитории использую подходы, основанные на сегментации. Используя python, построй RFM-сегментацию пользователей, чтобы качественно оценить свою аудиторию.\n",
    "\n",
    "В кластеризации можешь выбрать следующие метрики: R - время от последней покупки пользователя до текущей даты, F - суммарное количество покупок у пользователя за всё время, M - сумма покупок за всё время. Подробно опиши, как ты создавал кластеры. Для каждого RFM-сегмента построй границы метрик recency, frequency и monetary для интерпретации этих кластеров. Пример такого описания: RFM-сегмент 132 (recency=1, frequency=3, monetary=2) имеет границы метрик recency от 130 до 500 дней, frequency от 2 до 5 заказов в неделю, monetary от 1780 до 3560 рублей в неделю."
   ]
  },
  {
   "cell_type": "code",
   "execution_count": 65,
   "metadata": {},
   "outputs": [],
   "source": [
    "# посчитаем итоговую сумму заказа\n",
    "sales_per_order = items.groupby('order_id', as_index = False).agg({'price':'sum'}).rename(columns={'price':'sales'})"
   ]
  },
  {
   "cell_type": "code",
   "execution_count": 66,
   "metadata": {},
   "outputs": [],
   "source": [
    "# удалим ненужные колонки\n",
    "df = purchases_all.drop(columns=['order_status', 'order_purchase_timestamp', 'order_delivered_carrier_date', \n",
    "                                   'order_delivered_customer_date', 'order_estimated_delivery_date'])"
   ]
  },
  {
   "cell_type": "code",
   "execution_count": 67,
   "metadata": {},
   "outputs": [],
   "source": [
    "# добавим к основнуму df значения суммы заказа\n",
    "df_RFM = df.merge(sales_per_order, on = 'order_id')"
   ]
  },
  {
   "cell_type": "code",
   "execution_count": 68,
   "metadata": {},
   "outputs": [],
   "source": [
    "# перевод даты в соответствующий формат\n",
    "df_RFM['purchase_date'] = pd.to_datetime(df_RFM.order_approved_at).dt.date"
   ]
  },
  {
   "cell_type": "code",
   "execution_count": 69,
   "metadata": {},
   "outputs": [],
   "source": [
    "df_RFM = df_RFM.drop(columns = ['order_approved_at','customer_id'])"
   ]
  },
  {
   "cell_type": "code",
   "execution_count": 70,
   "metadata": {},
   "outputs": [
    {
     "data": {
      "text/html": [
       "<div>\n",
       "<style scoped>\n",
       "    .dataframe tbody tr th:only-of-type {\n",
       "        vertical-align: middle;\n",
       "    }\n",
       "\n",
       "    .dataframe tbody tr th {\n",
       "        vertical-align: top;\n",
       "    }\n",
       "\n",
       "    .dataframe thead th {\n",
       "        text-align: right;\n",
       "    }\n",
       "</style>\n",
       "<table border=\"1\" class=\"dataframe\">\n",
       "  <thead>\n",
       "    <tr style=\"text-align: right;\">\n",
       "      <th></th>\n",
       "      <th>order_id</th>\n",
       "      <th>customer_unique_id</th>\n",
       "      <th>sales</th>\n",
       "      <th>purchase_date</th>\n",
       "    </tr>\n",
       "  </thead>\n",
       "  <tbody>\n",
       "    <tr>\n",
       "      <th>0</th>\n",
       "      <td>e481f51cbdc54678b7cc49136f2d6af7</td>\n",
       "      <td>7c396fd4830fd04220f754e42b4e5bff</td>\n",
       "      <td>29.99</td>\n",
       "      <td>2017-10-02</td>\n",
       "    </tr>\n",
       "    <tr>\n",
       "      <th>1</th>\n",
       "      <td>53cdb2fc8bc7dce0b6741e2150273451</td>\n",
       "      <td>af07308b275d755c9edb36a90c618231</td>\n",
       "      <td>118.70</td>\n",
       "      <td>2018-07-26</td>\n",
       "    </tr>\n",
       "    <tr>\n",
       "      <th>2</th>\n",
       "      <td>47770eb9100c2d0c44946d9cf07ec65d</td>\n",
       "      <td>3a653a41f6f9fc3d2a113cf8398680e8</td>\n",
       "      <td>159.90</td>\n",
       "      <td>2018-08-08</td>\n",
       "    </tr>\n",
       "    <tr>\n",
       "      <th>3</th>\n",
       "      <td>949d5b44dbf5de918fe9c16f97b45f8a</td>\n",
       "      <td>7c142cf63193a1473d2e66489a9ae977</td>\n",
       "      <td>45.00</td>\n",
       "      <td>2017-11-18</td>\n",
       "    </tr>\n",
       "    <tr>\n",
       "      <th>4</th>\n",
       "      <td>ad21c59c0840e6cb83a9ceb5573f8159</td>\n",
       "      <td>72632f0f9dd73dfee390c9b22eb56dd6</td>\n",
       "      <td>19.90</td>\n",
       "      <td>2018-02-13</td>\n",
       "    </tr>\n",
       "  </tbody>\n",
       "</table>\n",
       "</div>"
      ],
      "text/plain": [
       "                           order_id                customer_unique_id   sales  \\\n",
       "0  e481f51cbdc54678b7cc49136f2d6af7  7c396fd4830fd04220f754e42b4e5bff   29.99   \n",
       "1  53cdb2fc8bc7dce0b6741e2150273451  af07308b275d755c9edb36a90c618231  118.70   \n",
       "2  47770eb9100c2d0c44946d9cf07ec65d  3a653a41f6f9fc3d2a113cf8398680e8  159.90   \n",
       "3  949d5b44dbf5de918fe9c16f97b45f8a  7c142cf63193a1473d2e66489a9ae977   45.00   \n",
       "4  ad21c59c0840e6cb83a9ceb5573f8159  72632f0f9dd73dfee390c9b22eb56dd6   19.90   \n",
       "\n",
       "  purchase_date  \n",
       "0    2017-10-02  \n",
       "1    2018-07-26  \n",
       "2    2018-08-08  \n",
       "3    2017-11-18  \n",
       "4    2018-02-13  "
      ]
     },
     "execution_count": 70,
     "metadata": {},
     "output_type": "execute_result"
    }
   ],
   "source": [
    "df_RFM.head()"
   ]
  },
  {
   "cell_type": "code",
   "execution_count": null,
   "metadata": {},
   "outputs": [],
   "source": [
    "# расчитаем recency как срок с последней покупки\n",
    "df_recency = df_RFM.groupby('customer_unique_id', as_index = False)['purchase_date'].max() # дата последней покупки\n",
    "df_recency.columns = ['customer_unique_id', 'last_purchase_date'] # создание колонок для df\n",
    "recent_date = df_recency['last_purchase_date'].max() # последняя дата в df как текущая дата\n",
    "df_recency['Recency'] = df_recency['last_purchase_date'] \\\n",
    "    .apply(lambda x: (recent_date - x).days) # подсчет recency для всех строк"
   ]
  },
  {
   "cell_type": "code",
   "execution_count": null,
   "metadata": {},
   "outputs": [],
   "source": [
    "df_recency.head()"
   ]
  },
  {
   "cell_type": "code",
   "execution_count": null,
   "metadata": {},
   "outputs": [],
   "source": [
    "# расчет количества покупок на клиенат\n",
    "frequency_df = df_RFM.drop_duplicates().groupby('customer_unique_id', as_index = False)['purchase_date'].count()\n",
    "frequency_df.columns = ['customer_unique_id', 'Frequency']\n",
    "frequency_df.head()"
   ]
  },
  {
   "cell_type": "code",
   "execution_count": null,
   "metadata": {},
   "outputs": [],
   "source": [
    "# сумма покупок на клиента уже расчитана как sales - сумма товаров, приобретенным одним клиентом\n",
    "monetary_df = df_RFM.groupby('customer_unique_id', as_index = False) \\\n",
    "    .agg({'sales':'sum'})\n",
    "monetary_df.head()"
   ]
  },
  {
   "cell_type": "code",
   "execution_count": null,
   "metadata": {},
   "outputs": [],
   "source": [
    "# объединение таблиц в одну\n",
    "rf_df = df_recency.merge(frequency_df, on='customer_unique_id') \n",
    "rfm_df = rf_df.merge(monetary_df, on='customer_unique_id') \\\n",
    "    .drop(columns='last_purchase_date') \\\n",
    "    .rename(columns={'sales':'Monetary'})\n",
    "rfm_df.head()"
   ]
  },
  {
   "cell_type": "code",
   "execution_count": null,
   "metadata": {},
   "outputs": [],
   "source": [
    "# используем разделенеие показателей на 5 равномерных частей для создания сегментов\n",
    "quintiles = rfm_df[['Recency', 'Frequency', 'Monetary']].quantile([.2, .4, .6, .8]).to_dict()\n",
    "quintiles"
   ]
  },
  {
   "cell_type": "code",
   "execution_count": null,
   "metadata": {},
   "outputs": [],
   "source": [
    "rfm_df.Frequency.unique()"
   ]
  },
  {
   "cell_type": "code",
   "execution_count": null,
   "metadata": {},
   "outputs": [],
   "source": [
    "rfm_df.query('Frequency != 1') # клиенты, совершившие более 1 покупки"
   ]
  },
  {
   "cell_type": "code",
   "execution_count": null,
   "metadata": {},
   "outputs": [],
   "source": [
    "rfm_df.shape"
   ]
  },
  {
   "cell_type": "markdown",
   "metadata": {},
   "source": [
    "Всего 2886 клиентов из 94970 совершили более 1 покупки, отчего не выйдет использовать метод 5 равных частей для сегментации показателя frequency."
   ]
  },
  {
   "cell_type": "code",
   "execution_count": null,
   "metadata": {},
   "outputs": [],
   "source": [
    "# определим группы для recency и monetary\n",
    "# чем меньше значение recency, тем меньше времени прошло с покупки\n",
    "# чем больше значение monetary, тем больше потратил клиент\n",
    "\n",
    "def r_score(x):\n",
    "    if x <= quintiles['Recency'][.2]:\n",
    "        return 5\n",
    "    elif x <= quintiles['Recency'][.4]:\n",
    "        return 4\n",
    "    elif x <= quintiles['Recency'][.6]:\n",
    "        return 3\n",
    "    elif x <= quintiles['Recency'][.8]:\n",
    "        return 2\n",
    "    else:\n",
    "        return 1\n",
    "\n",
    "def m_score(x):\n",
    "    if x <= quintiles['Monetary'][.2]: \n",
    "        return 1\n",
    "    elif x <= quintiles['Monetary'][.4]:\n",
    "        return 2\n",
    "    elif x <= quintiles['Monetary'][.6]:\n",
    "        return 3\n",
    "    elif x <= quintiles['Monetary'][.8]:\n",
    "        return 4\n",
    "    else:\n",
    "        return 5\n",
    "\n",
    "# т.к. частота покупок в подавляющем числе случаев =1, границы показателя установлены более 1/ равно 1\n",
    "def f_score(x):\n",
    "    if x > 1:\n",
    "        return 2\n",
    "    else:\n",
    "        return 1"
   ]
  },
  {
   "cell_type": "code",
   "execution_count": null,
   "metadata": {},
   "outputs": [],
   "source": [
    "# применение функций для всех строк df\n",
    "rfm_df['R_score'] = rfm_df['Recency'].apply(lambda x: r_score(x)) \n",
    "rfm_df['F_score'] = rfm_df['Frequency'].apply(lambda x: f_score(x))\n",
    "rfm_df['M_score'] = rfm_df['Monetary'].apply(lambda x: m_score(x))"
   ]
  },
  {
   "cell_type": "code",
   "execution_count": null,
   "metadata": {},
   "outputs": [],
   "source": [
    "rfm_df['RFM_score'] = rfm_df['R_score'].map(str) + rfm_df['F_score'].map(str) + rfm_df['M_score'].map(str)"
   ]
  },
  {
   "cell_type": "code",
   "execution_count": null,
   "metadata": {},
   "outputs": [],
   "source": [
    "rfm_df.head(10)"
   ]
  },
  {
   "cell_type": "markdown",
   "metadata": {},
   "source": [
    "### Ответ 6:\n",
    "Клиент 0000366f3b9a7992bf8c76cfdf3221e2 имеет RFM_score = 414: сделал только 1 покупку менее 181 дня назад и принес компании более 109.9 у.е. (больше него принесли только 20% клиентов) "
   ]
  },
  {
   "cell_type": "code",
   "execution_count": null,
   "metadata": {},
   "outputs": [],
   "source": []
  }
 ],
 "metadata": {
  "kernelspec": {
   "display_name": "Python 3 (ipykernel)",
   "language": "python",
   "name": "python3"
  },
  "language_info": {
   "codemirror_mode": {
    "name": "ipython",
    "version": 3
   },
   "file_extension": ".py",
   "mimetype": "text/x-python",
   "name": "python",
   "nbconvert_exporter": "python",
   "pygments_lexer": "ipython3",
   "version": "3.9.13"
  }
 },
 "nbformat": 4,
 "nbformat_minor": 4
}
